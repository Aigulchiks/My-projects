{
 "cells": [
  {
   "cell_type": "markdown",
   "metadata": {},
   "source": [
    "# Расчёты метрик для E-commerce\n"
   ]
  },
  {
   "cell_type": "markdown",
   "metadata": {},
   "source": [
    "Вы получили набор данных (файл data.xlsx), в котором содержатся данные по различным категориям (лист категории) и по брендам (лист бренды). "
   ]
  },
  {
   "cell_type": "markdown",
   "metadata": {},
   "source": [
    "# Загрузка библиотек"
   ]
  },
  {
   "cell_type": "code",
   "execution_count": 26,
   "metadata": {},
   "outputs": [],
   "source": [
    "import pandas as pd\n",
    "import numpy as np\n",
    "import seaborn as sns\n",
    "import matplotlib.pyplot as plt \n",
    "\n",
    "%matplotlib inline"
   ]
  },
  {
   "cell_type": "markdown",
   "metadata": {},
   "source": [
    "## Задание 1. Подготовка данных к работе"
   ]
  },
  {
   "cell_type": "markdown",
   "metadata": {},
   "source": [
    "1) Сформируйте два датафрейма: один с данными по категориям, другой по брендам. Выгрузите данные из файла в Excel формате, приложенного к заданию"
   ]
  },
  {
   "cell_type": "code",
   "execution_count": 27,
   "metadata": {
    "scrolled": true
   },
   "outputs": [
    {
     "data": {
      "text/html": [
       "<div>\n",
       "<style scoped>\n",
       "    .dataframe tbody tr th:only-of-type {\n",
       "        vertical-align: middle;\n",
       "    }\n",
       "\n",
       "    .dataframe tbody tr th {\n",
       "        vertical-align: top;\n",
       "    }\n",
       "\n",
       "    .dataframe thead th {\n",
       "        text-align: right;\n",
       "    }\n",
       "</style>\n",
       "<table border=\"1\" class=\"dataframe\">\n",
       "  <thead>\n",
       "    <tr style=\"text-align: right;\">\n",
       "      <th></th>\n",
       "      <th>date</th>\n",
       "      <th>cat1_name</th>\n",
       "      <th>cat2_name</th>\n",
       "      <th>cat3_name</th>\n",
       "      <th>cat4_name</th>\n",
       "      <th>cat5_name</th>\n",
       "      <th>cat_id</th>\n",
       "      <th>total_products</th>\n",
       "      <th>total_products_available</th>\n",
       "      <th>total_reviews_period</th>\n",
       "      <th>total_rate_period</th>\n",
       "      <th>total_sales_period</th>\n",
       "      <th>total_gmv_period</th>\n",
       "      <th>total_w_price_period</th>\n",
       "    </tr>\n",
       "  </thead>\n",
       "  <tbody>\n",
       "    <tr>\n",
       "      <th>0</th>\n",
       "      <td>2021-01</td>\n",
       "      <td>Техника для кухни</td>\n",
       "      <td>Крупная техника для кухни</td>\n",
       "      <td>Стиральные машины</td>\n",
       "      <td>NaN</td>\n",
       "      <td>NaN</td>\n",
       "      <td>267</td>\n",
       "      <td>717</td>\n",
       "      <td>569</td>\n",
       "      <td>699</td>\n",
       "      <td>4.72</td>\n",
       "      <td>10520.0</td>\n",
       "      <td>261594096.0</td>\n",
       "      <td>33471.34</td>\n",
       "    </tr>\n",
       "    <tr>\n",
       "      <th>1</th>\n",
       "      <td>2021-01</td>\n",
       "      <td>Техника для кухни</td>\n",
       "      <td>Встраиваемая техника</td>\n",
       "      <td>Духовые шкафы</td>\n",
       "      <td>Электрические духовые шкафы</td>\n",
       "      <td>NaN</td>\n",
       "      <td>354</td>\n",
       "      <td>936</td>\n",
       "      <td>736</td>\n",
       "      <td>179</td>\n",
       "      <td>4.74</td>\n",
       "      <td>3282.0</td>\n",
       "      <td>88321816.0</td>\n",
       "      <td>32048.29</td>\n",
       "    </tr>\n",
       "    <tr>\n",
       "      <th>2</th>\n",
       "      <td>2021-01</td>\n",
       "      <td>Техника для кухни</td>\n",
       "      <td>Встраиваемая техника</td>\n",
       "      <td>Встраиваемые посудомоечные машины</td>\n",
       "      <td>NaN</td>\n",
       "      <td>NaN</td>\n",
       "      <td>356</td>\n",
       "      <td>243</td>\n",
       "      <td>193</td>\n",
       "      <td>106</td>\n",
       "      <td>4.81</td>\n",
       "      <td>1847.0</td>\n",
       "      <td>65940492.0</td>\n",
       "      <td>38215.91</td>\n",
       "    </tr>\n",
       "    <tr>\n",
       "      <th>3</th>\n",
       "      <td>2021-01</td>\n",
       "      <td>Техника для кухни</td>\n",
       "      <td>Приготовление кофе</td>\n",
       "      <td>Кофемашины</td>\n",
       "      <td>NaN</td>\n",
       "      <td>NaN</td>\n",
       "      <td>404</td>\n",
       "      <td>150</td>\n",
       "      <td>141</td>\n",
       "      <td>145</td>\n",
       "      <td>4.78</td>\n",
       "      <td>1981.0</td>\n",
       "      <td>78239992.0</td>\n",
       "      <td>53331.06</td>\n",
       "    </tr>\n",
       "    <tr>\n",
       "      <th>4</th>\n",
       "      <td>2021-01</td>\n",
       "      <td>Техника для кухни</td>\n",
       "      <td>Крупная техника для кухни</td>\n",
       "      <td>Холодильники</td>\n",
       "      <td>NaN</td>\n",
       "      <td>NaN</td>\n",
       "      <td>338</td>\n",
       "      <td>1367</td>\n",
       "      <td>1088</td>\n",
       "      <td>498</td>\n",
       "      <td>4.73</td>\n",
       "      <td>6010.0</td>\n",
       "      <td>209767472.0</td>\n",
       "      <td>45644.74</td>\n",
       "    </tr>\n",
       "  </tbody>\n",
       "</table>\n",
       "</div>"
      ],
      "text/plain": [
       "      date          cat1_name                  cat2_name  \\\n",
       "0  2021-01  Техника для кухни  Крупная техника для кухни   \n",
       "1  2021-01  Техника для кухни       Встраиваемая техника   \n",
       "2  2021-01  Техника для кухни       Встраиваемая техника   \n",
       "3  2021-01  Техника для кухни         Приготовление кофе   \n",
       "4  2021-01  Техника для кухни  Крупная техника для кухни   \n",
       "\n",
       "                           cat3_name                    cat4_name cat5_name  \\\n",
       "0                  Стиральные машины                          NaN       NaN   \n",
       "1                      Духовые шкафы  Электрические духовые шкафы       NaN   \n",
       "2  Встраиваемые посудомоечные машины                          NaN       NaN   \n",
       "3                         Кофемашины                          NaN       NaN   \n",
       "4                       Холодильники                          NaN       NaN   \n",
       "\n",
       "   cat_id  total_products  total_products_available  total_reviews_period  \\\n",
       "0     267             717                       569                   699   \n",
       "1     354             936                       736                   179   \n",
       "2     356             243                       193                   106   \n",
       "3     404             150                       141                   145   \n",
       "4     338            1367                      1088                   498   \n",
       "\n",
       "   total_rate_period  total_sales_period  total_gmv_period  \\\n",
       "0               4.72             10520.0       261594096.0   \n",
       "1               4.74              3282.0        88321816.0   \n",
       "2               4.81              1847.0        65940492.0   \n",
       "3               4.78              1981.0        78239992.0   \n",
       "4               4.73              6010.0       209767472.0   \n",
       "\n",
       "   total_w_price_period  \n",
       "0              33471.34  \n",
       "1              32048.29  \n",
       "2              38215.91  \n",
       "3              53331.06  \n",
       "4              45644.74  "
      ]
     },
     "execution_count": 27,
     "metadata": {},
     "output_type": "execute_result"
    }
   ],
   "source": [
    "#данные по категориям\n",
    "df_category = pd.read_excel('data_category.xlsx')\n",
    "df_category.head()"
   ]
  },
  {
   "cell_type": "code",
   "execution_count": 28,
   "metadata": {
    "scrolled": false
   },
   "outputs": [
    {
     "data": {
      "text/html": [
       "<div>\n",
       "<style scoped>\n",
       "    .dataframe tbody tr th:only-of-type {\n",
       "        vertical-align: middle;\n",
       "    }\n",
       "\n",
       "    .dataframe tbody tr th {\n",
       "        vertical-align: top;\n",
       "    }\n",
       "\n",
       "    .dataframe thead th {\n",
       "        text-align: right;\n",
       "    }\n",
       "</style>\n",
       "<table border=\"1\" class=\"dataframe\">\n",
       "  <thead>\n",
       "    <tr style=\"text-align: right;\">\n",
       "      <th></th>\n",
       "      <th>date</th>\n",
       "      <th>cat_id</th>\n",
       "      <th>brand_id</th>\n",
       "      <th>brand_name</th>\n",
       "      <th>brand_products</th>\n",
       "      <th>brand_products_available</th>\n",
       "      <th>brand_reviews_period</th>\n",
       "      <th>brand_rate_period</th>\n",
       "      <th>brand_sales_period</th>\n",
       "      <th>brand_gmv_period</th>\n",
       "      <th>brand_w_price_period</th>\n",
       "    </tr>\n",
       "  </thead>\n",
       "  <tbody>\n",
       "    <tr>\n",
       "      <th>0</th>\n",
       "      <td>2021-01</td>\n",
       "      <td>267</td>\n",
       "      <td>16</td>\n",
       "      <td>LG</td>\n",
       "      <td>70</td>\n",
       "      <td>51</td>\n",
       "      <td>182</td>\n",
       "      <td>4.85</td>\n",
       "      <td>3561.0</td>\n",
       "      <td>104788056.0</td>\n",
       "      <td>47157.23</td>\n",
       "    </tr>\n",
       "    <tr>\n",
       "      <th>1</th>\n",
       "      <td>2021-01</td>\n",
       "      <td>354</td>\n",
       "      <td>406</td>\n",
       "      <td>Bosch</td>\n",
       "      <td>111</td>\n",
       "      <td>72</td>\n",
       "      <td>32</td>\n",
       "      <td>4.81</td>\n",
       "      <td>1259.0</td>\n",
       "      <td>41604080.0</td>\n",
       "      <td>39593.08</td>\n",
       "    </tr>\n",
       "    <tr>\n",
       "      <th>2</th>\n",
       "      <td>2021-01</td>\n",
       "      <td>356</td>\n",
       "      <td>406</td>\n",
       "      <td>Bosch</td>\n",
       "      <td>51</td>\n",
       "      <td>45</td>\n",
       "      <td>46</td>\n",
       "      <td>4.78</td>\n",
       "      <td>961.0</td>\n",
       "      <td>37822576.0</td>\n",
       "      <td>46877.65</td>\n",
       "    </tr>\n",
       "    <tr>\n",
       "      <th>3</th>\n",
       "      <td>2021-01</td>\n",
       "      <td>404</td>\n",
       "      <td>427</td>\n",
       "      <td>DeLonghi</td>\n",
       "      <td>39</td>\n",
       "      <td>36</td>\n",
       "      <td>34</td>\n",
       "      <td>4.76</td>\n",
       "      <td>835.0</td>\n",
       "      <td>36979552.0</td>\n",
       "      <td>53206.48</td>\n",
       "    </tr>\n",
       "    <tr>\n",
       "      <th>4</th>\n",
       "      <td>2021-01</td>\n",
       "      <td>338</td>\n",
       "      <td>16</td>\n",
       "      <td>LG</td>\n",
       "      <td>76</td>\n",
       "      <td>59</td>\n",
       "      <td>65</td>\n",
       "      <td>4.75</td>\n",
       "      <td>791.0</td>\n",
       "      <td>36394492.0</td>\n",
       "      <td>63102.21</td>\n",
       "    </tr>\n",
       "  </tbody>\n",
       "</table>\n",
       "</div>"
      ],
      "text/plain": [
       "      date  cat_id  brand_id brand_name  brand_products  \\\n",
       "0  2021-01     267        16         LG              70   \n",
       "1  2021-01     354       406      Bosch             111   \n",
       "2  2021-01     356       406      Bosch              51   \n",
       "3  2021-01     404       427   DeLonghi              39   \n",
       "4  2021-01     338        16         LG              76   \n",
       "\n",
       "   brand_products_available  brand_reviews_period  brand_rate_period  \\\n",
       "0                        51                   182               4.85   \n",
       "1                        72                    32               4.81   \n",
       "2                        45                    46               4.78   \n",
       "3                        36                    34               4.76   \n",
       "4                        59                    65               4.75   \n",
       "\n",
       "   brand_sales_period  brand_gmv_period  brand_w_price_period  \n",
       "0              3561.0       104788056.0              47157.23  \n",
       "1              1259.0        41604080.0              39593.08  \n",
       "2               961.0        37822576.0              46877.65  \n",
       "3               835.0        36979552.0              53206.48  \n",
       "4               791.0        36394492.0              63102.21  "
      ]
     },
     "execution_count": 28,
     "metadata": {},
     "output_type": "execute_result"
    }
   ],
   "source": [
    "#данные по брендам\n",
    "df_brand = pd.read_excel('data_brand.xlsx')\n",
    "df_brand.head()"
   ]
  },
  {
   "cell_type": "markdown",
   "metadata": {},
   "source": [
    "2) Из датафрейма Категории необходимо удалить дубликаты. Напишите в текстовом поле ниже количество дубликатов, которое было удалено"
   ]
  },
  {
   "cell_type": "code",
   "execution_count": 29,
   "metadata": {
    "scrolled": true
   },
   "outputs": [
    {
     "data": {
      "text/html": [
       "<div>\n",
       "<style scoped>\n",
       "    .dataframe tbody tr th:only-of-type {\n",
       "        vertical-align: middle;\n",
       "    }\n",
       "\n",
       "    .dataframe tbody tr th {\n",
       "        vertical-align: top;\n",
       "    }\n",
       "\n",
       "    .dataframe thead th {\n",
       "        text-align: right;\n",
       "    }\n",
       "</style>\n",
       "<table border=\"1\" class=\"dataframe\">\n",
       "  <thead>\n",
       "    <tr style=\"text-align: right;\">\n",
       "      <th></th>\n",
       "      <th>date</th>\n",
       "      <th>cat1_name</th>\n",
       "      <th>cat2_name</th>\n",
       "      <th>cat3_name</th>\n",
       "      <th>cat4_name</th>\n",
       "      <th>cat5_name</th>\n",
       "      <th>cat_id</th>\n",
       "      <th>total_products</th>\n",
       "      <th>total_products_available</th>\n",
       "      <th>total_reviews_period</th>\n",
       "      <th>total_rate_period</th>\n",
       "      <th>total_sales_period</th>\n",
       "      <th>total_gmv_period</th>\n",
       "      <th>total_w_price_period</th>\n",
       "    </tr>\n",
       "  </thead>\n",
       "  <tbody>\n",
       "    <tr>\n",
       "      <th>5</th>\n",
       "      <td>2021-01</td>\n",
       "      <td>Техника для кухни</td>\n",
       "      <td>Крупная техника для кухни</td>\n",
       "      <td>Холодильники</td>\n",
       "      <td>NaN</td>\n",
       "      <td>NaN</td>\n",
       "      <td>338</td>\n",
       "      <td>1367</td>\n",
       "      <td>1088</td>\n",
       "      <td>498</td>\n",
       "      <td>4.73</td>\n",
       "      <td>6010.0</td>\n",
       "      <td>209767472.0</td>\n",
       "      <td>45644.74</td>\n",
       "    </tr>\n",
       "    <tr>\n",
       "      <th>6</th>\n",
       "      <td>2021-01</td>\n",
       "      <td>Техника для кухни</td>\n",
       "      <td>Крупная техника для кухни</td>\n",
       "      <td>Холодильники</td>\n",
       "      <td>NaN</td>\n",
       "      <td>NaN</td>\n",
       "      <td>338</td>\n",
       "      <td>1367</td>\n",
       "      <td>1088</td>\n",
       "      <td>498</td>\n",
       "      <td>4.73</td>\n",
       "      <td>6010.0</td>\n",
       "      <td>209767472.0</td>\n",
       "      <td>45644.74</td>\n",
       "    </tr>\n",
       "    <tr>\n",
       "      <th>7</th>\n",
       "      <td>2021-01</td>\n",
       "      <td>Техника для кухни</td>\n",
       "      <td>Крупная техника для кухни</td>\n",
       "      <td>Стиральные машины</td>\n",
       "      <td>NaN</td>\n",
       "      <td>NaN</td>\n",
       "      <td>267</td>\n",
       "      <td>717</td>\n",
       "      <td>569</td>\n",
       "      <td>699</td>\n",
       "      <td>4.72</td>\n",
       "      <td>10520.0</td>\n",
       "      <td>261594096.0</td>\n",
       "      <td>33471.34</td>\n",
       "    </tr>\n",
       "    <tr>\n",
       "      <th>8</th>\n",
       "      <td>2021-01</td>\n",
       "      <td>Техника для кухни</td>\n",
       "      <td>Крупная техника для кухни</td>\n",
       "      <td>Холодильники</td>\n",
       "      <td>NaN</td>\n",
       "      <td>NaN</td>\n",
       "      <td>338</td>\n",
       "      <td>1367</td>\n",
       "      <td>1088</td>\n",
       "      <td>498</td>\n",
       "      <td>4.73</td>\n",
       "      <td>6010.0</td>\n",
       "      <td>209767472.0</td>\n",
       "      <td>45644.74</td>\n",
       "    </tr>\n",
       "    <tr>\n",
       "      <th>9</th>\n",
       "      <td>2021-01</td>\n",
       "      <td>Техника для кухни</td>\n",
       "      <td>Крупная техника для кухни</td>\n",
       "      <td>Стиральные машины</td>\n",
       "      <td>NaN</td>\n",
       "      <td>NaN</td>\n",
       "      <td>267</td>\n",
       "      <td>717</td>\n",
       "      <td>569</td>\n",
       "      <td>699</td>\n",
       "      <td>4.72</td>\n",
       "      <td>10520.0</td>\n",
       "      <td>261594096.0</td>\n",
       "      <td>33471.34</td>\n",
       "    </tr>\n",
       "  </tbody>\n",
       "</table>\n",
       "</div>"
      ],
      "text/plain": [
       "      date          cat1_name                  cat2_name          cat3_name  \\\n",
       "5  2021-01  Техника для кухни  Крупная техника для кухни       Холодильники   \n",
       "6  2021-01  Техника для кухни  Крупная техника для кухни       Холодильники   \n",
       "7  2021-01  Техника для кухни  Крупная техника для кухни  Стиральные машины   \n",
       "8  2021-01  Техника для кухни  Крупная техника для кухни       Холодильники   \n",
       "9  2021-01  Техника для кухни  Крупная техника для кухни  Стиральные машины   \n",
       "\n",
       "  cat4_name cat5_name  cat_id  total_products  total_products_available  \\\n",
       "5       NaN       NaN     338            1367                      1088   \n",
       "6       NaN       NaN     338            1367                      1088   \n",
       "7       NaN       NaN     267             717                       569   \n",
       "8       NaN       NaN     338            1367                      1088   \n",
       "9       NaN       NaN     267             717                       569   \n",
       "\n",
       "   total_reviews_period  total_rate_period  total_sales_period  \\\n",
       "5                   498               4.73              6010.0   \n",
       "6                   498               4.73              6010.0   \n",
       "7                   699               4.72             10520.0   \n",
       "8                   498               4.73              6010.0   \n",
       "9                   699               4.72             10520.0   \n",
       "\n",
       "   total_gmv_period  total_w_price_period  \n",
       "5       209767472.0              45644.74  \n",
       "6       209767472.0              45644.74  \n",
       "7       261594096.0              33471.34  \n",
       "8       209767472.0              45644.74  \n",
       "9       261594096.0              33471.34  "
      ]
     },
     "execution_count": 29,
     "metadata": {},
     "output_type": "execute_result"
    }
   ],
   "source": [
    "#посмотрим на дубликаты \n",
    "df_category[df_category.duplicated()].head()"
   ]
  },
  {
   "cell_type": "code",
   "execution_count": 30,
   "metadata": {
    "scrolled": false
   },
   "outputs": [
    {
     "data": {
      "text/plain": [
       "True     9100\n",
       "False     415\n",
       "dtype: int64"
      ]
     },
     "execution_count": 30,
     "metadata": {},
     "output_type": "execute_result"
    }
   ],
   "source": [
    "df_category.duplicated().value_counts()"
   ]
  },
  {
   "cell_type": "code",
   "execution_count": 31,
   "metadata": {},
   "outputs": [],
   "source": [
    "#тут лучше оставить первую строку, а остальные удалить. Перезапишем дата-фрейм без дубликатов\n",
    "df_category = df_category.drop_duplicates(keep='first')"
   ]
  },
  {
   "cell_type": "markdown",
   "metadata": {},
   "source": [
    "Ответ: удалили 9100 дубликатов"
   ]
  },
  {
   "cell_type": "markdown",
   "metadata": {},
   "source": [
    "-------------------------------------------"
   ]
  },
  {
   "cell_type": "markdown",
   "metadata": {},
   "source": [
    "3) Сколько пропусков содержится в обоих датафреймах? Заполните все пропущенные значения нулями"
   ]
  },
  {
   "cell_type": "code",
   "execution_count": 32,
   "metadata": {
    "scrolled": true
   },
   "outputs": [
    {
     "data": {
      "text/plain": [
       "629"
      ]
     },
     "execution_count": 32,
     "metadata": {},
     "output_type": "execute_result"
    }
   ],
   "source": [
    "#629 в дата-фрейме по категориям \n",
    "df_category.isna().sum().sum()"
   ]
  },
  {
   "cell_type": "code",
   "execution_count": 33,
   "metadata": {
    "scrolled": false
   },
   "outputs": [
    {
     "data": {
      "text/plain": [
       "17788"
      ]
     },
     "execution_count": 33,
     "metadata": {},
     "output_type": "execute_result"
    }
   ],
   "source": [
    "#17788 в дата-фрейме по брендам\n",
    "df_brand.isna().sum().sum()"
   ]
  },
  {
   "cell_type": "code",
   "execution_count": 34,
   "metadata": {
    "scrolled": true
   },
   "outputs": [
    {
     "data": {
      "text/html": [
       "<div>\n",
       "<style scoped>\n",
       "    .dataframe tbody tr th:only-of-type {\n",
       "        vertical-align: middle;\n",
       "    }\n",
       "\n",
       "    .dataframe tbody tr th {\n",
       "        vertical-align: top;\n",
       "    }\n",
       "\n",
       "    .dataframe thead th {\n",
       "        text-align: right;\n",
       "    }\n",
       "</style>\n",
       "<table border=\"1\" class=\"dataframe\">\n",
       "  <thead>\n",
       "    <tr style=\"text-align: right;\">\n",
       "      <th></th>\n",
       "      <th>date</th>\n",
       "      <th>cat1_name</th>\n",
       "      <th>cat2_name</th>\n",
       "      <th>cat3_name</th>\n",
       "      <th>cat4_name</th>\n",
       "      <th>cat5_name</th>\n",
       "      <th>cat_id</th>\n",
       "      <th>total_products</th>\n",
       "      <th>total_products_available</th>\n",
       "      <th>total_reviews_period</th>\n",
       "      <th>total_rate_period</th>\n",
       "      <th>total_sales_period</th>\n",
       "      <th>total_gmv_period</th>\n",
       "      <th>total_w_price_period</th>\n",
       "    </tr>\n",
       "  </thead>\n",
       "  <tbody>\n",
       "    <tr>\n",
       "      <th>0</th>\n",
       "      <td>2021-01</td>\n",
       "      <td>Техника для кухни</td>\n",
       "      <td>Крупная техника для кухни</td>\n",
       "      <td>Стиральные машины</td>\n",
       "      <td>0</td>\n",
       "      <td>0</td>\n",
       "      <td>267</td>\n",
       "      <td>717</td>\n",
       "      <td>569</td>\n",
       "      <td>699</td>\n",
       "      <td>4.72</td>\n",
       "      <td>10520.0</td>\n",
       "      <td>261594096.0</td>\n",
       "      <td>33471.34</td>\n",
       "    </tr>\n",
       "    <tr>\n",
       "      <th>1</th>\n",
       "      <td>2021-01</td>\n",
       "      <td>Техника для кухни</td>\n",
       "      <td>Встраиваемая техника</td>\n",
       "      <td>Духовые шкафы</td>\n",
       "      <td>Электрические духовые шкафы</td>\n",
       "      <td>0</td>\n",
       "      <td>354</td>\n",
       "      <td>936</td>\n",
       "      <td>736</td>\n",
       "      <td>179</td>\n",
       "      <td>4.74</td>\n",
       "      <td>3282.0</td>\n",
       "      <td>88321816.0</td>\n",
       "      <td>32048.29</td>\n",
       "    </tr>\n",
       "    <tr>\n",
       "      <th>2</th>\n",
       "      <td>2021-01</td>\n",
       "      <td>Техника для кухни</td>\n",
       "      <td>Встраиваемая техника</td>\n",
       "      <td>Встраиваемые посудомоечные машины</td>\n",
       "      <td>0</td>\n",
       "      <td>0</td>\n",
       "      <td>356</td>\n",
       "      <td>243</td>\n",
       "      <td>193</td>\n",
       "      <td>106</td>\n",
       "      <td>4.81</td>\n",
       "      <td>1847.0</td>\n",
       "      <td>65940492.0</td>\n",
       "      <td>38215.91</td>\n",
       "    </tr>\n",
       "    <tr>\n",
       "      <th>3</th>\n",
       "      <td>2021-01</td>\n",
       "      <td>Техника для кухни</td>\n",
       "      <td>Приготовление кофе</td>\n",
       "      <td>Кофемашины</td>\n",
       "      <td>0</td>\n",
       "      <td>0</td>\n",
       "      <td>404</td>\n",
       "      <td>150</td>\n",
       "      <td>141</td>\n",
       "      <td>145</td>\n",
       "      <td>4.78</td>\n",
       "      <td>1981.0</td>\n",
       "      <td>78239992.0</td>\n",
       "      <td>53331.06</td>\n",
       "    </tr>\n",
       "    <tr>\n",
       "      <th>4</th>\n",
       "      <td>2021-01</td>\n",
       "      <td>Техника для кухни</td>\n",
       "      <td>Крупная техника для кухни</td>\n",
       "      <td>Холодильники</td>\n",
       "      <td>0</td>\n",
       "      <td>0</td>\n",
       "      <td>338</td>\n",
       "      <td>1367</td>\n",
       "      <td>1088</td>\n",
       "      <td>498</td>\n",
       "      <td>4.73</td>\n",
       "      <td>6010.0</td>\n",
       "      <td>209767472.0</td>\n",
       "      <td>45644.74</td>\n",
       "    </tr>\n",
       "    <tr>\n",
       "      <th>...</th>\n",
       "      <td>...</td>\n",
       "      <td>...</td>\n",
       "      <td>...</td>\n",
       "      <td>...</td>\n",
       "      <td>...</td>\n",
       "      <td>...</td>\n",
       "      <td>...</td>\n",
       "      <td>...</td>\n",
       "      <td>...</td>\n",
       "      <td>...</td>\n",
       "      <td>...</td>\n",
       "      <td>...</td>\n",
       "      <td>...</td>\n",
       "      <td>...</td>\n",
       "    </tr>\n",
       "    <tr>\n",
       "      <th>8447</th>\n",
       "      <td>2021-05</td>\n",
       "      <td>Техника для кухни</td>\n",
       "      <td>Товары для кухни</td>\n",
       "      <td>Посуда</td>\n",
       "      <td>Посуда для сервировки стола</td>\n",
       "      <td>0</td>\n",
       "      <td>433</td>\n",
       "      <td>113</td>\n",
       "      <td>94</td>\n",
       "      <td>4</td>\n",
       "      <td>5.00</td>\n",
       "      <td>67.0</td>\n",
       "      <td>22009.5</td>\n",
       "      <td>562.40</td>\n",
       "    </tr>\n",
       "    <tr>\n",
       "      <th>8549</th>\n",
       "      <td>2021-05</td>\n",
       "      <td>Техника для кухни</td>\n",
       "      <td>Товары для кухни</td>\n",
       "      <td>Кухонные принадлежности</td>\n",
       "      <td>Подставки под горячее, прихватки</td>\n",
       "      <td>0</td>\n",
       "      <td>426</td>\n",
       "      <td>67</td>\n",
       "      <td>59</td>\n",
       "      <td>1</td>\n",
       "      <td>5.00</td>\n",
       "      <td>26.0</td>\n",
       "      <td>7889.0</td>\n",
       "      <td>365.62</td>\n",
       "    </tr>\n",
       "    <tr>\n",
       "      <th>8662</th>\n",
       "      <td>2021-05</td>\n",
       "      <td>Техника для кухни</td>\n",
       "      <td>Товары для кухни</td>\n",
       "      <td>Кухонные принадлежности</td>\n",
       "      <td>Прочие товары для кухни</td>\n",
       "      <td>0</td>\n",
       "      <td>440</td>\n",
       "      <td>46</td>\n",
       "      <td>35</td>\n",
       "      <td>1</td>\n",
       "      <td>5.00</td>\n",
       "      <td>68.0</td>\n",
       "      <td>1825.0</td>\n",
       "      <td>30.83</td>\n",
       "    </tr>\n",
       "    <tr>\n",
       "      <th>8747</th>\n",
       "      <td>2021-05</td>\n",
       "      <td>Техника для кухни</td>\n",
       "      <td>Мелкая техника для кухни</td>\n",
       "      <td>Прочая кухонная техника</td>\n",
       "      <td>Прочее</td>\n",
       "      <td>0</td>\n",
       "      <td>402</td>\n",
       "      <td>51</td>\n",
       "      <td>41</td>\n",
       "      <td>2</td>\n",
       "      <td>5.00</td>\n",
       "      <td>0.0</td>\n",
       "      <td>0.0</td>\n",
       "      <td>0.00</td>\n",
       "    </tr>\n",
       "    <tr>\n",
       "      <th>8793</th>\n",
       "      <td>2021-05</td>\n",
       "      <td>Техника для кухни</td>\n",
       "      <td>Товары для кухни</td>\n",
       "      <td>Кухонные принадлежности</td>\n",
       "      <td>Кухонные ножи</td>\n",
       "      <td>0</td>\n",
       "      <td>418</td>\n",
       "      <td>465</td>\n",
       "      <td>433</td>\n",
       "      <td>38</td>\n",
       "      <td>4.74</td>\n",
       "      <td>0.0</td>\n",
       "      <td>0.0</td>\n",
       "      <td>0.00</td>\n",
       "    </tr>\n",
       "  </tbody>\n",
       "</table>\n",
       "<p>415 rows × 14 columns</p>\n",
       "</div>"
      ],
      "text/plain": [
       "         date          cat1_name                  cat2_name  \\\n",
       "0     2021-01  Техника для кухни  Крупная техника для кухни   \n",
       "1     2021-01  Техника для кухни       Встраиваемая техника   \n",
       "2     2021-01  Техника для кухни       Встраиваемая техника   \n",
       "3     2021-01  Техника для кухни         Приготовление кофе   \n",
       "4     2021-01  Техника для кухни  Крупная техника для кухни   \n",
       "...       ...                ...                        ...   \n",
       "8447  2021-05  Техника для кухни           Товары для кухни   \n",
       "8549  2021-05  Техника для кухни           Товары для кухни   \n",
       "8662  2021-05  Техника для кухни           Товары для кухни   \n",
       "8747  2021-05  Техника для кухни   Мелкая техника для кухни   \n",
       "8793  2021-05  Техника для кухни           Товары для кухни   \n",
       "\n",
       "                              cat3_name                         cat4_name  \\\n",
       "0                     Стиральные машины                                 0   \n",
       "1                         Духовые шкафы       Электрические духовые шкафы   \n",
       "2     Встраиваемые посудомоечные машины                                 0   \n",
       "3                            Кофемашины                                 0   \n",
       "4                          Холодильники                                 0   \n",
       "...                                 ...                               ...   \n",
       "8447                             Посуда       Посуда для сервировки стола   \n",
       "8549            Кухонные принадлежности  Подставки под горячее, прихватки   \n",
       "8662            Кухонные принадлежности           Прочие товары для кухни   \n",
       "8747            Прочая кухонная техника                            Прочее   \n",
       "8793            Кухонные принадлежности                     Кухонные ножи   \n",
       "\n",
       "     cat5_name  cat_id  total_products  total_products_available  \\\n",
       "0            0     267             717                       569   \n",
       "1            0     354             936                       736   \n",
       "2            0     356             243                       193   \n",
       "3            0     404             150                       141   \n",
       "4            0     338            1367                      1088   \n",
       "...        ...     ...             ...                       ...   \n",
       "8447         0     433             113                        94   \n",
       "8549         0     426              67                        59   \n",
       "8662         0     440              46                        35   \n",
       "8747         0     402              51                        41   \n",
       "8793         0     418             465                       433   \n",
       "\n",
       "      total_reviews_period  total_rate_period  total_sales_period  \\\n",
       "0                      699               4.72             10520.0   \n",
       "1                      179               4.74              3282.0   \n",
       "2                      106               4.81              1847.0   \n",
       "3                      145               4.78              1981.0   \n",
       "4                      498               4.73              6010.0   \n",
       "...                    ...                ...                 ...   \n",
       "8447                     4               5.00                67.0   \n",
       "8549                     1               5.00                26.0   \n",
       "8662                     1               5.00                68.0   \n",
       "8747                     2               5.00                 0.0   \n",
       "8793                    38               4.74                 0.0   \n",
       "\n",
       "      total_gmv_period  total_w_price_period  \n",
       "0          261594096.0              33471.34  \n",
       "1           88321816.0              32048.29  \n",
       "2           65940492.0              38215.91  \n",
       "3           78239992.0              53331.06  \n",
       "4          209767472.0              45644.74  \n",
       "...                ...                   ...  \n",
       "8447           22009.5                562.40  \n",
       "8549            7889.0                365.62  \n",
       "8662            1825.0                 30.83  \n",
       "8747               0.0                  0.00  \n",
       "8793               0.0                  0.00  \n",
       "\n",
       "[415 rows x 14 columns]"
      ]
     },
     "execution_count": 34,
     "metadata": {},
     "output_type": "execute_result"
    }
   ],
   "source": [
    "#заполняем пропущенные: \n",
    "df_category = df_category.fillna(0)\n",
    "df_category"
   ]
  },
  {
   "cell_type": "code",
   "execution_count": 35,
   "metadata": {
    "scrolled": true
   },
   "outputs": [
    {
     "data": {
      "text/html": [
       "<div>\n",
       "<style scoped>\n",
       "    .dataframe tbody tr th:only-of-type {\n",
       "        vertical-align: middle;\n",
       "    }\n",
       "\n",
       "    .dataframe tbody tr th {\n",
       "        vertical-align: top;\n",
       "    }\n",
       "\n",
       "    .dataframe thead th {\n",
       "        text-align: right;\n",
       "    }\n",
       "</style>\n",
       "<table border=\"1\" class=\"dataframe\">\n",
       "  <thead>\n",
       "    <tr style=\"text-align: right;\">\n",
       "      <th></th>\n",
       "      <th>date</th>\n",
       "      <th>cat_id</th>\n",
       "      <th>brand_id</th>\n",
       "      <th>brand_name</th>\n",
       "      <th>brand_products</th>\n",
       "      <th>brand_products_available</th>\n",
       "      <th>brand_reviews_period</th>\n",
       "      <th>brand_rate_period</th>\n",
       "      <th>brand_sales_period</th>\n",
       "      <th>brand_gmv_period</th>\n",
       "      <th>brand_w_price_period</th>\n",
       "    </tr>\n",
       "  </thead>\n",
       "  <tbody>\n",
       "    <tr>\n",
       "      <th>0</th>\n",
       "      <td>2021-01</td>\n",
       "      <td>267</td>\n",
       "      <td>16</td>\n",
       "      <td>LG</td>\n",
       "      <td>70</td>\n",
       "      <td>51</td>\n",
       "      <td>182</td>\n",
       "      <td>4.85</td>\n",
       "      <td>3561.0</td>\n",
       "      <td>104788056.0</td>\n",
       "      <td>47157.23</td>\n",
       "    </tr>\n",
       "    <tr>\n",
       "      <th>1</th>\n",
       "      <td>2021-01</td>\n",
       "      <td>354</td>\n",
       "      <td>406</td>\n",
       "      <td>Bosch</td>\n",
       "      <td>111</td>\n",
       "      <td>72</td>\n",
       "      <td>32</td>\n",
       "      <td>4.81</td>\n",
       "      <td>1259.0</td>\n",
       "      <td>41604080.0</td>\n",
       "      <td>39593.08</td>\n",
       "    </tr>\n",
       "    <tr>\n",
       "      <th>2</th>\n",
       "      <td>2021-01</td>\n",
       "      <td>356</td>\n",
       "      <td>406</td>\n",
       "      <td>Bosch</td>\n",
       "      <td>51</td>\n",
       "      <td>45</td>\n",
       "      <td>46</td>\n",
       "      <td>4.78</td>\n",
       "      <td>961.0</td>\n",
       "      <td>37822576.0</td>\n",
       "      <td>46877.65</td>\n",
       "    </tr>\n",
       "    <tr>\n",
       "      <th>3</th>\n",
       "      <td>2021-01</td>\n",
       "      <td>404</td>\n",
       "      <td>427</td>\n",
       "      <td>DeLonghi</td>\n",
       "      <td>39</td>\n",
       "      <td>36</td>\n",
       "      <td>34</td>\n",
       "      <td>4.76</td>\n",
       "      <td>835.0</td>\n",
       "      <td>36979552.0</td>\n",
       "      <td>53206.48</td>\n",
       "    </tr>\n",
       "    <tr>\n",
       "      <th>4</th>\n",
       "      <td>2021-01</td>\n",
       "      <td>338</td>\n",
       "      <td>16</td>\n",
       "      <td>LG</td>\n",
       "      <td>76</td>\n",
       "      <td>59</td>\n",
       "      <td>65</td>\n",
       "      <td>4.75</td>\n",
       "      <td>791.0</td>\n",
       "      <td>36394492.0</td>\n",
       "      <td>63102.21</td>\n",
       "    </tr>\n",
       "    <tr>\n",
       "      <th>...</th>\n",
       "      <td>...</td>\n",
       "      <td>...</td>\n",
       "      <td>...</td>\n",
       "      <td>...</td>\n",
       "      <td>...</td>\n",
       "      <td>...</td>\n",
       "      <td>...</td>\n",
       "      <td>...</td>\n",
       "      <td>...</td>\n",
       "      <td>...</td>\n",
       "      <td>...</td>\n",
       "    </tr>\n",
       "    <tr>\n",
       "      <th>9510</th>\n",
       "      <td>2021-05</td>\n",
       "      <td>432</td>\n",
       "      <td>2708</td>\n",
       "      <td>Мечта</td>\n",
       "      <td>16</td>\n",
       "      <td>16</td>\n",
       "      <td>0</td>\n",
       "      <td>0.00</td>\n",
       "      <td>0.0</td>\n",
       "      <td>0.0</td>\n",
       "      <td>0.00</td>\n",
       "    </tr>\n",
       "    <tr>\n",
       "      <th>9511</th>\n",
       "      <td>2021-05</td>\n",
       "      <td>383</td>\n",
       "      <td>626</td>\n",
       "      <td>Bomann</td>\n",
       "      <td>1</td>\n",
       "      <td>1</td>\n",
       "      <td>0</td>\n",
       "      <td>0.00</td>\n",
       "      <td>0.0</td>\n",
       "      <td>0.0</td>\n",
       "      <td>0.00</td>\n",
       "    </tr>\n",
       "    <tr>\n",
       "      <th>9512</th>\n",
       "      <td>2021-05</td>\n",
       "      <td>427</td>\n",
       "      <td>993</td>\n",
       "      <td>ПОЛИМЕРБЫТ</td>\n",
       "      <td>1</td>\n",
       "      <td>1</td>\n",
       "      <td>0</td>\n",
       "      <td>0.00</td>\n",
       "      <td>0.0</td>\n",
       "      <td>0.0</td>\n",
       "      <td>0.00</td>\n",
       "    </tr>\n",
       "    <tr>\n",
       "      <th>9513</th>\n",
       "      <td>2021-05</td>\n",
       "      <td>396</td>\n",
       "      <td>2092</td>\n",
       "      <td>ВЕЛИКИЕ-РЕКИ</td>\n",
       "      <td>1</td>\n",
       "      <td>1</td>\n",
       "      <td>0</td>\n",
       "      <td>0.00</td>\n",
       "      <td>0.0</td>\n",
       "      <td>0.0</td>\n",
       "      <td>0.00</td>\n",
       "    </tr>\n",
       "    <tr>\n",
       "      <th>9514</th>\n",
       "      <td>2021-05</td>\n",
       "      <td>398</td>\n",
       "      <td>406</td>\n",
       "      <td>Bosch</td>\n",
       "      <td>1</td>\n",
       "      <td>1</td>\n",
       "      <td>0</td>\n",
       "      <td>0.00</td>\n",
       "      <td>0.0</td>\n",
       "      <td>0.0</td>\n",
       "      <td>0.00</td>\n",
       "    </tr>\n",
       "  </tbody>\n",
       "</table>\n",
       "<p>9515 rows × 11 columns</p>\n",
       "</div>"
      ],
      "text/plain": [
       "         date  cat_id  brand_id    brand_name  brand_products  \\\n",
       "0     2021-01     267        16            LG              70   \n",
       "1     2021-01     354       406         Bosch             111   \n",
       "2     2021-01     356       406         Bosch              51   \n",
       "3     2021-01     404       427      DeLonghi              39   \n",
       "4     2021-01     338        16            LG              76   \n",
       "...       ...     ...       ...           ...             ...   \n",
       "9510  2021-05     432      2708         Мечта              16   \n",
       "9511  2021-05     383       626        Bomann               1   \n",
       "9512  2021-05     427       993    ПОЛИМЕРБЫТ               1   \n",
       "9513  2021-05     396      2092  ВЕЛИКИЕ-РЕКИ               1   \n",
       "9514  2021-05     398       406         Bosch               1   \n",
       "\n",
       "      brand_products_available  brand_reviews_period  brand_rate_period  \\\n",
       "0                           51                   182               4.85   \n",
       "1                           72                    32               4.81   \n",
       "2                           45                    46               4.78   \n",
       "3                           36                    34               4.76   \n",
       "4                           59                    65               4.75   \n",
       "...                        ...                   ...                ...   \n",
       "9510                        16                     0               0.00   \n",
       "9511                         1                     0               0.00   \n",
       "9512                         1                     0               0.00   \n",
       "9513                         1                     0               0.00   \n",
       "9514                         1                     0               0.00   \n",
       "\n",
       "      brand_sales_period  brand_gmv_period  brand_w_price_period  \n",
       "0                 3561.0       104788056.0              47157.23  \n",
       "1                 1259.0        41604080.0              39593.08  \n",
       "2                  961.0        37822576.0              46877.65  \n",
       "3                  835.0        36979552.0              53206.48  \n",
       "4                  791.0        36394492.0              63102.21  \n",
       "...                  ...               ...                   ...  \n",
       "9510                 0.0               0.0                  0.00  \n",
       "9511                 0.0               0.0                  0.00  \n",
       "9512                 0.0               0.0                  0.00  \n",
       "9513                 0.0               0.0                  0.00  \n",
       "9514                 0.0               0.0                  0.00  \n",
       "\n",
       "[9515 rows x 11 columns]"
      ]
     },
     "execution_count": 35,
     "metadata": {},
     "output_type": "execute_result"
    }
   ],
   "source": [
    "df_brand.fillna(0)"
   ]
  },
  {
   "cell_type": "markdown",
   "metadata": {},
   "source": [
    "4) Сохраните полученные датафреймы в отдельные файлы в Excel формате"
   ]
  },
  {
   "cell_type": "code",
   "execution_count": 36,
   "metadata": {},
   "outputs": [],
   "source": [
    "df_category.to_excel('data_categories.xlsx', sheet_name='categories', index=False)"
   ]
  },
  {
   "cell_type": "code",
   "execution_count": 37,
   "metadata": {},
   "outputs": [],
   "source": [
    "df_brand.to_excel('data_brands.xlsx', sheet_name='brands', index=False)"
   ]
  },
  {
   "cell_type": "markdown",
   "metadata": {},
   "source": [
    "-------------------------------------------"
   ]
  },
  {
   "cell_type": "markdown",
   "metadata": {},
   "source": [
    "## Задание 2. Работа с категориями"
   ]
  },
  {
   "cell_type": "markdown",
   "metadata": {},
   "source": [
    "1) Найдите категорию с самым большим изменением средней цены за период (с января по май)"
   ]
  },
  {
   "cell_type": "code",
   "execution_count": 38,
   "metadata": {},
   "outputs": [],
   "source": [
    "#переформатируем дату\n",
    "df_category ['date'] = pd.to_datetime(df_category['date'])"
   ]
  },
  {
   "cell_type": "code",
   "execution_count": 39,
   "metadata": {},
   "outputs": [],
   "source": [
    "df_mean = df_category.groupby(['date','cat3_name'], as_index = False).agg({'total_w_price_period':'mean'})"
   ]
  },
  {
   "cell_type": "code",
   "execution_count": 40,
   "metadata": {
    "scrolled": false
   },
   "outputs": [],
   "source": [
    "a = df_mean[df_mean['date'].dt.month == 1]\n",
    "b = df_mean[df_mean['date'].dt.month == 5]"
   ]
  },
  {
   "cell_type": "code",
   "execution_count": 41,
   "metadata": {
    "scrolled": false
   },
   "outputs": [
    {
     "data": {
      "text/html": [
       "<div>\n",
       "<style scoped>\n",
       "    .dataframe tbody tr th:only-of-type {\n",
       "        vertical-align: middle;\n",
       "    }\n",
       "\n",
       "    .dataframe tbody tr th {\n",
       "        vertical-align: top;\n",
       "    }\n",
       "\n",
       "    .dataframe thead th {\n",
       "        text-align: right;\n",
       "    }\n",
       "</style>\n",
       "<table border=\"1\" class=\"dataframe\">\n",
       "  <thead>\n",
       "    <tr style=\"text-align: right;\">\n",
       "      <th></th>\n",
       "      <th>date_x</th>\n",
       "      <th>cat3_name</th>\n",
       "      <th>total_w_price_period_x</th>\n",
       "      <th>date_y</th>\n",
       "      <th>total_w_price_period_y</th>\n",
       "    </tr>\n",
       "  </thead>\n",
       "  <tbody>\n",
       "    <tr>\n",
       "      <th>0</th>\n",
       "      <td>2021-01-01</td>\n",
       "      <td>Аксессуары для кофеварок и кофемашин</td>\n",
       "      <td>743.960000</td>\n",
       "      <td>2021-05-01</td>\n",
       "      <td>693.860000</td>\n",
       "    </tr>\n",
       "    <tr>\n",
       "      <th>1</th>\n",
       "      <td>2021-01-01</td>\n",
       "      <td>Блендеры</td>\n",
       "      <td>5397.350000</td>\n",
       "      <td>2021-05-01</td>\n",
       "      <td>4175.720000</td>\n",
       "    </tr>\n",
       "    <tr>\n",
       "      <th>2</th>\n",
       "      <td>2021-01-01</td>\n",
       "      <td>Вакуумные упаковщики и су-вид</td>\n",
       "      <td>6658.460000</td>\n",
       "      <td>2021-05-01</td>\n",
       "      <td>3149.640000</td>\n",
       "    </tr>\n",
       "    <tr>\n",
       "      <th>3</th>\n",
       "      <td>2021-01-01</td>\n",
       "      <td>Варочные панели</td>\n",
       "      <td>22331.853333</td>\n",
       "      <td>2021-05-01</td>\n",
       "      <td>19691.666667</td>\n",
       "    </tr>\n",
       "    <tr>\n",
       "      <th>4</th>\n",
       "      <td>2021-01-01</td>\n",
       "      <td>Вафельницы</td>\n",
       "      <td>2997.130000</td>\n",
       "      <td>2021-05-01</td>\n",
       "      <td>2555.000000</td>\n",
       "    </tr>\n",
       "  </tbody>\n",
       "</table>\n",
       "</div>"
      ],
      "text/plain": [
       "      date_x                             cat3_name  total_w_price_period_x  \\\n",
       "0 2021-01-01  Аксессуары для кофеварок и кофемашин              743.960000   \n",
       "1 2021-01-01                              Блендеры             5397.350000   \n",
       "2 2021-01-01         Вакуумные упаковщики и су-вид             6658.460000   \n",
       "3 2021-01-01                       Варочные панели            22331.853333   \n",
       "4 2021-01-01                            Вафельницы             2997.130000   \n",
       "\n",
       "      date_y  total_w_price_period_y  \n",
       "0 2021-05-01              693.860000  \n",
       "1 2021-05-01             4175.720000  \n",
       "2 2021-05-01             3149.640000  \n",
       "3 2021-05-01            19691.666667  \n",
       "4 2021-05-01             2555.000000  "
      ]
     },
     "execution_count": 41,
     "metadata": {},
     "output_type": "execute_result"
    }
   ],
   "source": [
    "c = a.merge(b, on = 'cat3_name', how = 'left')\n",
    "c.head()"
   ]
  },
  {
   "cell_type": "code",
   "execution_count": 42,
   "metadata": {},
   "outputs": [],
   "source": [
    "#посчитаем разницы между средними в абсолютных и процентных значениях\n",
    "c = c.rename(columns={\"total_w_price_period_x\": \"mean_jan\", \"total_w_price_period_y\": \"mean_may\" })\n",
    "c['mean_delta'] = c.mean_jan - c.mean_may\n",
    "c['mean_delta_%'] = (c.mean_jan - c.mean_may) / c.mean_jan * 100"
   ]
  },
  {
   "cell_type": "code",
   "execution_count": 43,
   "metadata": {
    "scrolled": true
   },
   "outputs": [
    {
     "data": {
      "text/html": [
       "<div>\n",
       "<style scoped>\n",
       "    .dataframe tbody tr th:only-of-type {\n",
       "        vertical-align: middle;\n",
       "    }\n",
       "\n",
       "    .dataframe tbody tr th {\n",
       "        vertical-align: top;\n",
       "    }\n",
       "\n",
       "    .dataframe thead th {\n",
       "        text-align: right;\n",
       "    }\n",
       "</style>\n",
       "<table border=\"1\" class=\"dataframe\">\n",
       "  <thead>\n",
       "    <tr style=\"text-align: right;\">\n",
       "      <th></th>\n",
       "      <th>date_x</th>\n",
       "      <th>cat3_name</th>\n",
       "      <th>mean_jan</th>\n",
       "      <th>date_y</th>\n",
       "      <th>mean_may</th>\n",
       "      <th>mean_delta</th>\n",
       "      <th>mean_delta_%</th>\n",
       "    </tr>\n",
       "  </thead>\n",
       "  <tbody>\n",
       "    <tr>\n",
       "      <th>2</th>\n",
       "      <td>2021-01-01</td>\n",
       "      <td>Вакуумные упаковщики и су-вид</td>\n",
       "      <td>6658.46</td>\n",
       "      <td>2021-05-01</td>\n",
       "      <td>3149.64</td>\n",
       "      <td>3508.82</td>\n",
       "      <td>52.697170</td>\n",
       "    </tr>\n",
       "    <tr>\n",
       "      <th>33</th>\n",
       "      <td>2021-01-01</td>\n",
       "      <td>Прочая встраиваемая техника</td>\n",
       "      <td>149590.00</td>\n",
       "      <td>2021-05-01</td>\n",
       "      <td>90135.00</td>\n",
       "      <td>59455.00</td>\n",
       "      <td>39.745304</td>\n",
       "    </tr>\n",
       "    <tr>\n",
       "      <th>5</th>\n",
       "      <td>2021-01-01</td>\n",
       "      <td>Вспениватели молока</td>\n",
       "      <td>3382.00</td>\n",
       "      <td>2021-05-01</td>\n",
       "      <td>4627.85</td>\n",
       "      <td>-1245.85</td>\n",
       "      <td>-36.837670</td>\n",
       "    </tr>\n",
       "    <tr>\n",
       "      <th>39</th>\n",
       "      <td>2021-01-01</td>\n",
       "      <td>Тостеры и сэндвич-тостеры</td>\n",
       "      <td>2067.04</td>\n",
       "      <td>2021-05-01</td>\n",
       "      <td>2662.45</td>\n",
       "      <td>-595.41</td>\n",
       "      <td>-28.804958</td>\n",
       "    </tr>\n",
       "    <tr>\n",
       "      <th>1</th>\n",
       "      <td>2021-01-01</td>\n",
       "      <td>Блендеры</td>\n",
       "      <td>5397.35</td>\n",
       "      <td>2021-05-01</td>\n",
       "      <td>4175.72</td>\n",
       "      <td>1221.63</td>\n",
       "      <td>22.633885</td>\n",
       "    </tr>\n",
       "  </tbody>\n",
       "</table>\n",
       "</div>"
      ],
      "text/plain": [
       "       date_x                      cat3_name   mean_jan     date_y  mean_may  \\\n",
       "2  2021-01-01  Вакуумные упаковщики и су-вид    6658.46 2021-05-01   3149.64   \n",
       "33 2021-01-01    Прочая встраиваемая техника  149590.00 2021-05-01  90135.00   \n",
       "5  2021-01-01            Вспениватели молока    3382.00 2021-05-01   4627.85   \n",
       "39 2021-01-01      Тостеры и сэндвич-тостеры    2067.04 2021-05-01   2662.45   \n",
       "1  2021-01-01                       Блендеры    5397.35 2021-05-01   4175.72   \n",
       "\n",
       "    mean_delta  mean_delta_%  \n",
       "2      3508.82     52.697170  \n",
       "33    59455.00     39.745304  \n",
       "5     -1245.85    -36.837670  \n",
       "39     -595.41    -28.804958  \n",
       "1      1221.63     22.633885  "
      ]
     },
     "execution_count": 43,
     "metadata": {},
     "output_type": "execute_result"
    }
   ],
   "source": [
    "#так как нам важна именно величина разницы, то сортируем по модулю \n",
    "c.sort_values(by='mean_delta_%', key=abs, ascending = False).head()"
   ]
  },
  {
   "cell_type": "markdown",
   "metadata": {},
   "source": [
    "Ответ: Категория с самым большим изменением средней цены - Вакуумные упаковщики и су-вид (в процентном соотношении), \n",
    "В абсолютных значениях будет - Прочая встраиваемая техника."
   ]
  },
  {
   "cell_type": "markdown",
   "metadata": {},
   "source": [
    "------------------------------"
   ]
  },
  {
   "cell_type": "markdown",
   "metadata": {},
   "source": [
    "2) Найдите категорию с наименьшим количеством доступных для покупки товаров"
   ]
  },
  {
   "cell_type": "code",
   "execution_count": 44,
   "metadata": {
    "scrolled": true
   },
   "outputs": [
    {
     "data": {
      "text/html": [
       "<div>\n",
       "<style scoped>\n",
       "    .dataframe tbody tr th:only-of-type {\n",
       "        vertical-align: middle;\n",
       "    }\n",
       "\n",
       "    .dataframe tbody tr th {\n",
       "        vertical-align: top;\n",
       "    }\n",
       "\n",
       "    .dataframe thead th {\n",
       "        text-align: right;\n",
       "    }\n",
       "</style>\n",
       "<table border=\"1\" class=\"dataframe\">\n",
       "  <thead>\n",
       "    <tr style=\"text-align: right;\">\n",
       "      <th></th>\n",
       "      <th>cat3_name</th>\n",
       "      <th>total_products_available</th>\n",
       "    </tr>\n",
       "  </thead>\n",
       "  <tbody>\n",
       "    <tr>\n",
       "      <th>14</th>\n",
       "      <td>Измельчители пищевых отходов</td>\n",
       "      <td>106</td>\n",
       "    </tr>\n",
       "  </tbody>\n",
       "</table>\n",
       "</div>"
      ],
      "text/plain": [
       "                       cat3_name  total_products_available\n",
       "14  Измельчители пищевых отходов                       106"
      ]
     },
     "execution_count": 44,
     "metadata": {},
     "output_type": "execute_result"
    }
   ],
   "source": [
    "#ответ: Измельчители пищевых отходов\n",
    "df_category.groupby('cat3_name', as_index = False).agg({'total_products_available':'sum'})\\\n",
    "                                                  .sort_values(by='total_products_available').head(1)"
   ]
  },
  {
   "cell_type": "markdown",
   "metadata": {},
   "source": [
    "3,4) Найдите категорию с наибольшим приростом оборота за период в % соотношении и в абсолютном значении."
   ]
  },
  {
   "cell_type": "code",
   "execution_count": 45,
   "metadata": {
    "scrolled": true
   },
   "outputs": [
    {
     "data": {
      "text/html": [
       "<div>\n",
       "<style scoped>\n",
       "    .dataframe tbody tr th:only-of-type {\n",
       "        vertical-align: middle;\n",
       "    }\n",
       "\n",
       "    .dataframe tbody tr th {\n",
       "        vertical-align: top;\n",
       "    }\n",
       "\n",
       "    .dataframe thead th {\n",
       "        text-align: right;\n",
       "    }\n",
       "</style>\n",
       "<table border=\"1\" class=\"dataframe\">\n",
       "  <thead>\n",
       "    <tr style=\"text-align: right;\">\n",
       "      <th></th>\n",
       "      <th>date</th>\n",
       "      <th>cat3_name</th>\n",
       "      <th>total_gmv_period</th>\n",
       "    </tr>\n",
       "  </thead>\n",
       "  <tbody>\n",
       "    <tr>\n",
       "      <th>0</th>\n",
       "      <td>2021-01-01</td>\n",
       "      <td>Аксессуары для кофеварок и кофемашин</td>\n",
       "      <td>1021458.75</td>\n",
       "    </tr>\n",
       "    <tr>\n",
       "      <th>1</th>\n",
       "      <td>2021-01-01</td>\n",
       "      <td>Блендеры</td>\n",
       "      <td>13424004.00</td>\n",
       "    </tr>\n",
       "    <tr>\n",
       "      <th>2</th>\n",
       "      <td>2021-01-01</td>\n",
       "      <td>Вакуумные упаковщики и су-вид</td>\n",
       "      <td>1504654.60</td>\n",
       "    </tr>\n",
       "    <tr>\n",
       "      <th>3</th>\n",
       "      <td>2021-01-01</td>\n",
       "      <td>Варочные панели</td>\n",
       "      <td>68398612.00</td>\n",
       "    </tr>\n",
       "    <tr>\n",
       "      <th>4</th>\n",
       "      <td>2021-01-01</td>\n",
       "      <td>Вафельницы</td>\n",
       "      <td>2809423.00</td>\n",
       "    </tr>\n",
       "  </tbody>\n",
       "</table>\n",
       "</div>"
      ],
      "text/plain": [
       "        date                             cat3_name  total_gmv_period\n",
       "0 2021-01-01  Аксессуары для кофеварок и кофемашин        1021458.75\n",
       "1 2021-01-01                              Блендеры       13424004.00\n",
       "2 2021-01-01         Вакуумные упаковщики и су-вид        1504654.60\n",
       "3 2021-01-01                       Варочные панели       68398612.00\n",
       "4 2021-01-01                            Вафельницы        2809423.00"
      ]
     },
     "execution_count": 45,
     "metadata": {},
     "output_type": "execute_result"
    }
   ],
   "source": [
    "df_gmv = df_category.groupby(['date','cat3_name'], as_index = False).agg({'total_gmv_period':'sum'})\n",
    "df_gmv.head()"
   ]
  },
  {
   "cell_type": "code",
   "execution_count": 46,
   "metadata": {},
   "outputs": [],
   "source": [
    "d = df_gmv[df_gmv['date'].dt.month == 1]\n",
    "e = df_gmv[df_gmv['date'].dt.month == 5]"
   ]
  },
  {
   "cell_type": "code",
   "execution_count": 47,
   "metadata": {
    "scrolled": false
   },
   "outputs": [
    {
     "data": {
      "text/html": [
       "<div>\n",
       "<style scoped>\n",
       "    .dataframe tbody tr th:only-of-type {\n",
       "        vertical-align: middle;\n",
       "    }\n",
       "\n",
       "    .dataframe tbody tr th {\n",
       "        vertical-align: top;\n",
       "    }\n",
       "\n",
       "    .dataframe thead th {\n",
       "        text-align: right;\n",
       "    }\n",
       "</style>\n",
       "<table border=\"1\" class=\"dataframe\">\n",
       "  <thead>\n",
       "    <tr style=\"text-align: right;\">\n",
       "      <th></th>\n",
       "      <th>date_x</th>\n",
       "      <th>cat3_name</th>\n",
       "      <th>total_gmv_period_x</th>\n",
       "      <th>date_y</th>\n",
       "      <th>total_gmv_period_y</th>\n",
       "    </tr>\n",
       "  </thead>\n",
       "  <tbody>\n",
       "    <tr>\n",
       "      <th>0</th>\n",
       "      <td>2021-01-01</td>\n",
       "      <td>Аксессуары для кофеварок и кофемашин</td>\n",
       "      <td>1021458.75</td>\n",
       "      <td>2021-05-01</td>\n",
       "      <td>715460.0</td>\n",
       "    </tr>\n",
       "    <tr>\n",
       "      <th>1</th>\n",
       "      <td>2021-01-01</td>\n",
       "      <td>Блендеры</td>\n",
       "      <td>13424004.00</td>\n",
       "      <td>2021-05-01</td>\n",
       "      <td>16970514.0</td>\n",
       "    </tr>\n",
       "    <tr>\n",
       "      <th>2</th>\n",
       "      <td>2021-01-01</td>\n",
       "      <td>Вакуумные упаковщики и су-вид</td>\n",
       "      <td>1504654.60</td>\n",
       "      <td>2021-05-01</td>\n",
       "      <td>1238420.0</td>\n",
       "    </tr>\n",
       "    <tr>\n",
       "      <th>3</th>\n",
       "      <td>2021-01-01</td>\n",
       "      <td>Варочные панели</td>\n",
       "      <td>68398612.00</td>\n",
       "      <td>2021-05-01</td>\n",
       "      <td>57011700.0</td>\n",
       "    </tr>\n",
       "    <tr>\n",
       "      <th>4</th>\n",
       "      <td>2021-01-01</td>\n",
       "      <td>Вафельницы</td>\n",
       "      <td>2809423.00</td>\n",
       "      <td>2021-05-01</td>\n",
       "      <td>2058194.9</td>\n",
       "    </tr>\n",
       "  </tbody>\n",
       "</table>\n",
       "</div>"
      ],
      "text/plain": [
       "      date_x                             cat3_name  total_gmv_period_x  \\\n",
       "0 2021-01-01  Аксессуары для кофеварок и кофемашин          1021458.75   \n",
       "1 2021-01-01                              Блендеры         13424004.00   \n",
       "2 2021-01-01         Вакуумные упаковщики и су-вид          1504654.60   \n",
       "3 2021-01-01                       Варочные панели         68398612.00   \n",
       "4 2021-01-01                            Вафельницы          2809423.00   \n",
       "\n",
       "      date_y  total_gmv_period_y  \n",
       "0 2021-05-01            715460.0  \n",
       "1 2021-05-01          16970514.0  \n",
       "2 2021-05-01           1238420.0  \n",
       "3 2021-05-01          57011700.0  \n",
       "4 2021-05-01           2058194.9  "
      ]
     },
     "execution_count": 47,
     "metadata": {},
     "output_type": "execute_result"
    }
   ],
   "source": [
    "f = d.merge(e, on = 'cat3_name', how = 'left')\n",
    "f.head()"
   ]
  },
  {
   "cell_type": "code",
   "execution_count": 48,
   "metadata": {},
   "outputs": [],
   "source": [
    "#посчитаем разницы между оборотами в абсолютных и процентных значениях\n",
    "f = f.rename(columns={\"total_gmv_period_x\": \"gmv_jan\", \"total_gmv_period_y\": \"gmv_may\" })\n",
    "f['gmv_delta'] = f.gmv_jan - f.gmv_may\n",
    "f['gmv_delta_%'] = (f.gmv_jan - f.gmv_may) / f.gmv_jan * 100"
   ]
  },
  {
   "cell_type": "code",
   "execution_count": 49,
   "metadata": {},
   "outputs": [
    {
     "data": {
      "text/html": [
       "<div>\n",
       "<style scoped>\n",
       "    .dataframe tbody tr th:only-of-type {\n",
       "        vertical-align: middle;\n",
       "    }\n",
       "\n",
       "    .dataframe tbody tr th {\n",
       "        vertical-align: top;\n",
       "    }\n",
       "\n",
       "    .dataframe thead th {\n",
       "        text-align: right;\n",
       "    }\n",
       "</style>\n",
       "<table border=\"1\" class=\"dataframe\">\n",
       "  <thead>\n",
       "    <tr style=\"text-align: right;\">\n",
       "      <th></th>\n",
       "      <th>date_x</th>\n",
       "      <th>cat3_name</th>\n",
       "      <th>gmv_jan</th>\n",
       "      <th>date_y</th>\n",
       "      <th>gmv_may</th>\n",
       "      <th>gmv_delta</th>\n",
       "      <th>gmv_delta_%</th>\n",
       "    </tr>\n",
       "  </thead>\n",
       "  <tbody>\n",
       "    <tr>\n",
       "      <th>14</th>\n",
       "      <td>2021-01-01</td>\n",
       "      <td>Измельчители пищевых отходов</td>\n",
       "      <td>638320.0</td>\n",
       "      <td>2021-05-01</td>\n",
       "      <td>207920.0</td>\n",
       "      <td>430400.0</td>\n",
       "      <td>67.426996</td>\n",
       "    </tr>\n",
       "  </tbody>\n",
       "</table>\n",
       "</div>"
      ],
      "text/plain": [
       "       date_x                     cat3_name   gmv_jan     date_y   gmv_may  \\\n",
       "14 2021-01-01  Измельчители пищевых отходов  638320.0 2021-05-01  207920.0   \n",
       "\n",
       "    gmv_delta  gmv_delta_%  \n",
       "14   430400.0    67.426996  "
      ]
     },
     "execution_count": 49,
     "metadata": {},
     "output_type": "execute_result"
    }
   ],
   "source": [
    "#категория с наибольшим приростом оборота за период (в % соотношении) - Измельчители пищевых отходов\n",
    "f.sort_values(by='gmv_delta_%', ascending = False).head(1)"
   ]
  },
  {
   "cell_type": "code",
   "execution_count": 50,
   "metadata": {
    "scrolled": true
   },
   "outputs": [
    {
     "data": {
      "text/html": [
       "<div>\n",
       "<style scoped>\n",
       "    .dataframe tbody tr th:only-of-type {\n",
       "        vertical-align: middle;\n",
       "    }\n",
       "\n",
       "    .dataframe tbody tr th {\n",
       "        vertical-align: top;\n",
       "    }\n",
       "\n",
       "    .dataframe thead th {\n",
       "        text-align: right;\n",
       "    }\n",
       "</style>\n",
       "<table border=\"1\" class=\"dataframe\">\n",
       "  <thead>\n",
       "    <tr style=\"text-align: right;\">\n",
       "      <th></th>\n",
       "      <th>date_x</th>\n",
       "      <th>cat3_name</th>\n",
       "      <th>gmv_jan</th>\n",
       "      <th>date_y</th>\n",
       "      <th>gmv_may</th>\n",
       "      <th>gmv_delta</th>\n",
       "      <th>gmv_delta_%</th>\n",
       "    </tr>\n",
       "  </thead>\n",
       "  <tbody>\n",
       "    <tr>\n",
       "      <th>36</th>\n",
       "      <td>2021-01-01</td>\n",
       "      <td>Стиральные машины</td>\n",
       "      <td>261594096.0</td>\n",
       "      <td>2021-05-01</td>\n",
       "      <td>213338272.0</td>\n",
       "      <td>48255824.0</td>\n",
       "      <td>18.446832</td>\n",
       "    </tr>\n",
       "  </tbody>\n",
       "</table>\n",
       "</div>"
      ],
      "text/plain": [
       "       date_x          cat3_name      gmv_jan     date_y      gmv_may  \\\n",
       "36 2021-01-01  Стиральные машины  261594096.0 2021-05-01  213338272.0   \n",
       "\n",
       "     gmv_delta  gmv_delta_%  \n",
       "36  48255824.0    18.446832  "
      ]
     },
     "execution_count": 50,
     "metadata": {},
     "output_type": "execute_result"
    }
   ],
   "source": [
    "#категория с наибольшим приростом оборота за период (в абсолютном значении) - Стиральные машины\n",
    "f.sort_values(by='gmv_delta', ascending = False).head(1)"
   ]
  },
  {
   "cell_type": "markdown",
   "metadata": {},
   "source": [
    "5) Создайте столбец gmv_grow, в котором будет отражен прирост оборота от месяца к месяцу"
   ]
  },
  {
   "cell_type": "code",
   "execution_count": 51,
   "metadata": {
    "scrolled": false
   },
   "outputs": [
    {
     "data": {
      "text/html": [
       "<div>\n",
       "<style scoped>\n",
       "    .dataframe tbody tr th:only-of-type {\n",
       "        vertical-align: middle;\n",
       "    }\n",
       "\n",
       "    .dataframe tbody tr th {\n",
       "        vertical-align: top;\n",
       "    }\n",
       "\n",
       "    .dataframe thead th {\n",
       "        text-align: right;\n",
       "    }\n",
       "</style>\n",
       "<table border=\"1\" class=\"dataframe\">\n",
       "  <thead>\n",
       "    <tr style=\"text-align: right;\">\n",
       "      <th></th>\n",
       "      <th>date</th>\n",
       "      <th>total_gmv_period</th>\n",
       "    </tr>\n",
       "  </thead>\n",
       "  <tbody>\n",
       "    <tr>\n",
       "      <th>0</th>\n",
       "      <td>2021-01-01</td>\n",
       "      <td>1.144743e+09</td>\n",
       "    </tr>\n",
       "    <tr>\n",
       "      <th>1</th>\n",
       "      <td>2021-02-01</td>\n",
       "      <td>1.172207e+09</td>\n",
       "    </tr>\n",
       "    <tr>\n",
       "      <th>2</th>\n",
       "      <td>2021-03-01</td>\n",
       "      <td>1.546066e+09</td>\n",
       "    </tr>\n",
       "    <tr>\n",
       "      <th>3</th>\n",
       "      <td>2021-04-01</td>\n",
       "      <td>1.206335e+09</td>\n",
       "    </tr>\n",
       "    <tr>\n",
       "      <th>4</th>\n",
       "      <td>2021-05-01</td>\n",
       "      <td>1.003657e+09</td>\n",
       "    </tr>\n",
       "  </tbody>\n",
       "</table>\n",
       "</div>"
      ],
      "text/plain": [
       "        date  total_gmv_period\n",
       "0 2021-01-01      1.144743e+09\n",
       "1 2021-02-01      1.172207e+09\n",
       "2 2021-03-01      1.546066e+09\n",
       "3 2021-04-01      1.206335e+09\n",
       "4 2021-05-01      1.003657e+09"
      ]
     },
     "execution_count": 51,
     "metadata": {},
     "output_type": "execute_result"
    }
   ],
   "source": [
    "df_category_grow = df_category.groupby('date', as_index = False).agg({'total_gmv_period':'sum'})\n",
    "df_category_grow "
   ]
  },
  {
   "cell_type": "code",
   "execution_count": 52,
   "metadata": {},
   "outputs": [],
   "source": [
    "growth_rate = np.exp(np.diff(np.log(df_category_grow.total_gmv_period))) - 1"
   ]
  },
  {
   "cell_type": "code",
   "execution_count": 53,
   "metadata": {},
   "outputs": [
    {
     "data": {
      "text/plain": [
       "array([ 0.02399171,  0.31893567, -0.21973936, -0.16801082])"
      ]
     },
     "execution_count": 53,
     "metadata": {},
     "output_type": "execute_result"
    }
   ],
   "source": [
    "growth_rate"
   ]
  },
  {
   "cell_type": "code",
   "execution_count": 54,
   "metadata": {},
   "outputs": [],
   "source": [
    "df_category_grow ['gmv_grow'] = [0 , 0.02399171,  0.31893567, -0.21973936, -0.16801082 ]"
   ]
  },
  {
   "cell_type": "code",
   "execution_count": 55,
   "metadata": {},
   "outputs": [
    {
     "data": {
      "text/html": [
       "<div>\n",
       "<style scoped>\n",
       "    .dataframe tbody tr th:only-of-type {\n",
       "        vertical-align: middle;\n",
       "    }\n",
       "\n",
       "    .dataframe tbody tr th {\n",
       "        vertical-align: top;\n",
       "    }\n",
       "\n",
       "    .dataframe thead th {\n",
       "        text-align: right;\n",
       "    }\n",
       "</style>\n",
       "<table border=\"1\" class=\"dataframe\">\n",
       "  <thead>\n",
       "    <tr style=\"text-align: right;\">\n",
       "      <th></th>\n",
       "      <th>date</th>\n",
       "      <th>total_gmv_period</th>\n",
       "      <th>gmv_grow</th>\n",
       "    </tr>\n",
       "  </thead>\n",
       "  <tbody>\n",
       "    <tr>\n",
       "      <th>0</th>\n",
       "      <td>2021-01-01</td>\n",
       "      <td>1.144743e+09</td>\n",
       "      <td>0.000000</td>\n",
       "    </tr>\n",
       "    <tr>\n",
       "      <th>1</th>\n",
       "      <td>2021-02-01</td>\n",
       "      <td>1.172207e+09</td>\n",
       "      <td>0.023992</td>\n",
       "    </tr>\n",
       "    <tr>\n",
       "      <th>2</th>\n",
       "      <td>2021-03-01</td>\n",
       "      <td>1.546066e+09</td>\n",
       "      <td>0.318936</td>\n",
       "    </tr>\n",
       "    <tr>\n",
       "      <th>3</th>\n",
       "      <td>2021-04-01</td>\n",
       "      <td>1.206335e+09</td>\n",
       "      <td>-0.219739</td>\n",
       "    </tr>\n",
       "    <tr>\n",
       "      <th>4</th>\n",
       "      <td>2021-05-01</td>\n",
       "      <td>1.003657e+09</td>\n",
       "      <td>-0.168011</td>\n",
       "    </tr>\n",
       "  </tbody>\n",
       "</table>\n",
       "</div>"
      ],
      "text/plain": [
       "        date  total_gmv_period  gmv_grow\n",
       "0 2021-01-01      1.144743e+09  0.000000\n",
       "1 2021-02-01      1.172207e+09  0.023992\n",
       "2 2021-03-01      1.546066e+09  0.318936\n",
       "3 2021-04-01      1.206335e+09 -0.219739\n",
       "4 2021-05-01      1.003657e+09 -0.168011"
      ]
     },
     "execution_count": 55,
     "metadata": {},
     "output_type": "execute_result"
    }
   ],
   "source": [
    "df_category_grow "
   ]
  },
  {
   "cell_type": "markdown",
   "metadata": {},
   "source": [
    "6) Сгенерируйте график, демонстрирующий оборот от месяца к месяцу в трех самых крупных категориях"
   ]
  },
  {
   "cell_type": "markdown",
   "metadata": {},
   "source": [
    "Так как тут у нас не прирост оборота, а оборот от месяца к месяцу, если я правильно поняла, то тут задача показать кумулятивный оборот."
   ]
  },
  {
   "cell_type": "code",
   "execution_count": 56,
   "metadata": {},
   "outputs": [
    {
     "data": {
      "text/html": [
       "<div>\n",
       "<style scoped>\n",
       "    .dataframe tbody tr th:only-of-type {\n",
       "        vertical-align: middle;\n",
       "    }\n",
       "\n",
       "    .dataframe tbody tr th {\n",
       "        vertical-align: top;\n",
       "    }\n",
       "\n",
       "    .dataframe thead th {\n",
       "        text-align: right;\n",
       "    }\n",
       "</style>\n",
       "<table border=\"1\" class=\"dataframe\">\n",
       "  <thead>\n",
       "    <tr style=\"text-align: right;\">\n",
       "      <th></th>\n",
       "      <th>total_gmv_period</th>\n",
       "    </tr>\n",
       "    <tr>\n",
       "      <th>cat3_name</th>\n",
       "      <th></th>\n",
       "    </tr>\n",
       "  </thead>\n",
       "  <tbody>\n",
       "    <tr>\n",
       "      <th>Стиральные машины</th>\n",
       "      <td>1.192384e+09</td>\n",
       "    </tr>\n",
       "    <tr>\n",
       "      <th>Холодильники</th>\n",
       "      <td>1.187613e+09</td>\n",
       "    </tr>\n",
       "    <tr>\n",
       "      <th>Духовые шкафы</th>\n",
       "      <td>5.113021e+08</td>\n",
       "    </tr>\n",
       "  </tbody>\n",
       "</table>\n",
       "</div>"
      ],
      "text/plain": [
       "                   total_gmv_period\n",
       "cat3_name                          \n",
       "Стиральные машины      1.192384e+09\n",
       "Холодильники           1.187613e+09\n",
       "Духовые шкафы          5.113021e+08"
      ]
     },
     "execution_count": 56,
     "metadata": {},
     "output_type": "execute_result"
    }
   ],
   "source": [
    "#ищем три самые большие категории\n",
    "df_category.groupby('cat3_name').agg({'total_gmv_period':'sum'})\\\n",
    "                                 .sort_values(by='total_gmv_period', ascending = False).head(3)"
   ]
  },
  {
   "cell_type": "code",
   "execution_count": 57,
   "metadata": {},
   "outputs": [
    {
     "data": {
      "text/html": [
       "<div>\n",
       "<style scoped>\n",
       "    .dataframe tbody tr th:only-of-type {\n",
       "        vertical-align: middle;\n",
       "    }\n",
       "\n",
       "    .dataframe tbody tr th {\n",
       "        vertical-align: top;\n",
       "    }\n",
       "\n",
       "    .dataframe thead th {\n",
       "        text-align: right;\n",
       "    }\n",
       "</style>\n",
       "<table border=\"1\" class=\"dataframe\">\n",
       "  <thead>\n",
       "    <tr style=\"text-align: right;\">\n",
       "      <th></th>\n",
       "      <th>date</th>\n",
       "      <th>total_gmv_period</th>\n",
       "      <th>gmv_growth</th>\n",
       "    </tr>\n",
       "  </thead>\n",
       "  <tbody>\n",
       "    <tr>\n",
       "      <th>0</th>\n",
       "      <td>2021-01-01</td>\n",
       "      <td>261594096.0</td>\n",
       "      <td>2.615941e+08</td>\n",
       "    </tr>\n",
       "    <tr>\n",
       "      <th>1</th>\n",
       "      <td>2021-02-01</td>\n",
       "      <td>208866464.0</td>\n",
       "      <td>4.704606e+08</td>\n",
       "    </tr>\n",
       "    <tr>\n",
       "      <th>2</th>\n",
       "      <td>2021-03-01</td>\n",
       "      <td>258854672.0</td>\n",
       "      <td>7.293152e+08</td>\n",
       "    </tr>\n",
       "    <tr>\n",
       "      <th>3</th>\n",
       "      <td>2021-04-01</td>\n",
       "      <td>249730400.0</td>\n",
       "      <td>9.790456e+08</td>\n",
       "    </tr>\n",
       "    <tr>\n",
       "      <th>4</th>\n",
       "      <td>2021-05-01</td>\n",
       "      <td>213338272.0</td>\n",
       "      <td>1.192384e+09</td>\n",
       "    </tr>\n",
       "  </tbody>\n",
       "</table>\n",
       "</div>"
      ],
      "text/plain": [
       "        date  total_gmv_period    gmv_growth\n",
       "0 2021-01-01       261594096.0  2.615941e+08\n",
       "1 2021-02-01       208866464.0  4.704606e+08\n",
       "2 2021-03-01       258854672.0  7.293152e+08\n",
       "3 2021-04-01       249730400.0  9.790456e+08\n",
       "4 2021-05-01       213338272.0  1.192384e+09"
      ]
     },
     "execution_count": 57,
     "metadata": {},
     "output_type": "execute_result"
    }
   ],
   "source": [
    "#считаем оборот к о месяца к месяцу для стиральных машин \n",
    "df_wash = df_category.query('cat3_name == \"Стиральные машины\"')\\\n",
    "            .groupby('date', as_index = False).agg({'total_gmv_period':'sum'})\n",
    "df_wash ['gmv_growth'] = df_wash ['total_gmv_period'].cumsum()\n",
    "df_wash"
   ]
  },
  {
   "cell_type": "code",
   "execution_count": 58,
   "metadata": {
    "scrolled": true
   },
   "outputs": [
    {
     "data": {
      "text/html": [
       "<div>\n",
       "<style scoped>\n",
       "    .dataframe tbody tr th:only-of-type {\n",
       "        vertical-align: middle;\n",
       "    }\n",
       "\n",
       "    .dataframe tbody tr th {\n",
       "        vertical-align: top;\n",
       "    }\n",
       "\n",
       "    .dataframe thead th {\n",
       "        text-align: right;\n",
       "    }\n",
       "</style>\n",
       "<table border=\"1\" class=\"dataframe\">\n",
       "  <thead>\n",
       "    <tr style=\"text-align: right;\">\n",
       "      <th></th>\n",
       "      <th>date</th>\n",
       "      <th>total_gmv_period</th>\n",
       "      <th>gmv_growth</th>\n",
       "    </tr>\n",
       "  </thead>\n",
       "  <tbody>\n",
       "    <tr>\n",
       "      <th>0</th>\n",
       "      <td>2021-01-01</td>\n",
       "      <td>209767472.0</td>\n",
       "      <td>2.097675e+08</td>\n",
       "    </tr>\n",
       "    <tr>\n",
       "      <th>1</th>\n",
       "      <td>2021-02-01</td>\n",
       "      <td>247472784.0</td>\n",
       "      <td>4.572403e+08</td>\n",
       "    </tr>\n",
       "    <tr>\n",
       "      <th>2</th>\n",
       "      <td>2021-03-01</td>\n",
       "      <td>254155440.0</td>\n",
       "      <td>7.113957e+08</td>\n",
       "    </tr>\n",
       "    <tr>\n",
       "      <th>3</th>\n",
       "      <td>2021-04-01</td>\n",
       "      <td>231125328.0</td>\n",
       "      <td>9.425210e+08</td>\n",
       "    </tr>\n",
       "    <tr>\n",
       "      <th>4</th>\n",
       "      <td>2021-05-01</td>\n",
       "      <td>245092320.0</td>\n",
       "      <td>1.187613e+09</td>\n",
       "    </tr>\n",
       "  </tbody>\n",
       "</table>\n",
       "</div>"
      ],
      "text/plain": [
       "        date  total_gmv_period    gmv_growth\n",
       "0 2021-01-01       209767472.0  2.097675e+08\n",
       "1 2021-02-01       247472784.0  4.572403e+08\n",
       "2 2021-03-01       254155440.0  7.113957e+08\n",
       "3 2021-04-01       231125328.0  9.425210e+08\n",
       "4 2021-05-01       245092320.0  1.187613e+09"
      ]
     },
     "execution_count": 58,
     "metadata": {},
     "output_type": "execute_result"
    }
   ],
   "source": [
    "#считаем оборот от месяца к месяцу для холодильников \n",
    "df_ref = df_category.query('cat3_name == \"Холодильники\"')\\\n",
    "            .groupby('date', as_index = False).agg({'total_gmv_period':'sum'})\n",
    "df_ref ['gmv_growth'] = df_ref ['total_gmv_period'].cumsum()\n",
    "df_ref"
   ]
  },
  {
   "cell_type": "code",
   "execution_count": 59,
   "metadata": {},
   "outputs": [
    {
     "data": {
      "text/html": [
       "<div>\n",
       "<style scoped>\n",
       "    .dataframe tbody tr th:only-of-type {\n",
       "        vertical-align: middle;\n",
       "    }\n",
       "\n",
       "    .dataframe tbody tr th {\n",
       "        vertical-align: top;\n",
       "    }\n",
       "\n",
       "    .dataframe thead th {\n",
       "        text-align: right;\n",
       "    }\n",
       "</style>\n",
       "<table border=\"1\" class=\"dataframe\">\n",
       "  <thead>\n",
       "    <tr style=\"text-align: right;\">\n",
       "      <th></th>\n",
       "      <th>date</th>\n",
       "      <th>total_gmv_period</th>\n",
       "      <th>gmv_growth</th>\n",
       "    </tr>\n",
       "  </thead>\n",
       "  <tbody>\n",
       "    <tr>\n",
       "      <th>0</th>\n",
       "      <td>2021-01-01</td>\n",
       "      <td>90151226.0</td>\n",
       "      <td>90151226.0</td>\n",
       "    </tr>\n",
       "    <tr>\n",
       "      <th>1</th>\n",
       "      <td>2021-02-01</td>\n",
       "      <td>86370750.0</td>\n",
       "      <td>176521976.0</td>\n",
       "    </tr>\n",
       "    <tr>\n",
       "      <th>2</th>\n",
       "      <td>2021-03-01</td>\n",
       "      <td>159194796.8</td>\n",
       "      <td>335716772.8</td>\n",
       "    </tr>\n",
       "    <tr>\n",
       "      <th>3</th>\n",
       "      <td>2021-04-01</td>\n",
       "      <td>110324622.2</td>\n",
       "      <td>446041395.0</td>\n",
       "    </tr>\n",
       "    <tr>\n",
       "      <th>4</th>\n",
       "      <td>2021-05-01</td>\n",
       "      <td>65260680.4</td>\n",
       "      <td>511302075.4</td>\n",
       "    </tr>\n",
       "  </tbody>\n",
       "</table>\n",
       "</div>"
      ],
      "text/plain": [
       "        date  total_gmv_period   gmv_growth\n",
       "0 2021-01-01        90151226.0   90151226.0\n",
       "1 2021-02-01        86370750.0  176521976.0\n",
       "2 2021-03-01       159194796.8  335716772.8\n",
       "3 2021-04-01       110324622.2  446041395.0\n",
       "4 2021-05-01        65260680.4  511302075.4"
      ]
     },
     "execution_count": 59,
     "metadata": {},
     "output_type": "execute_result"
    }
   ],
   "source": [
    "#считаем оборот от месяца к месяцу для духовок \n",
    "df_oven = df_category.query('cat3_name == \"Духовые шкафы\"')\\\n",
    "            .groupby('date', as_index = False).agg({'total_gmv_period':'sum'})\n",
    "df_oven ['gmv_growth'] = df_oven['total_gmv_period'].cumsum()\n",
    "df_oven"
   ]
  },
  {
   "cell_type": "code",
   "execution_count": 60,
   "metadata": {
    "scrolled": true
   },
   "outputs": [],
   "source": [
    "#соединяем \n",
    "df_vis = df_wash.merge(df_ref, on = 'date', how = 'left')\n",
    "df_vis = df_vis.merge(df_oven, on = 'date', how = 'left')"
   ]
  },
  {
   "cell_type": "code",
   "execution_count": 61,
   "metadata": {
    "scrolled": true
   },
   "outputs": [],
   "source": [
    "df_vis = df_vis.rename(columns={\"gmv_growth_x\": \"Washing_machines\", \"gmv_growth_y\": \"Refrigerators\",\"gmv_growth\": \"Ovens\"})"
   ]
  },
  {
   "cell_type": "code",
   "execution_count": 62,
   "metadata": {
    "scrolled": true
   },
   "outputs": [],
   "source": [
    "df_vis = df_vis.drop(columns = ['total_gmv_period_x', 'total_gmv_period_y', 'total_gmv_period'])"
   ]
  },
  {
   "cell_type": "code",
   "execution_count": 63,
   "metadata": {},
   "outputs": [],
   "source": [
    "df_vis = df_vis.melt(id_vars='date')"
   ]
  },
  {
   "cell_type": "code",
   "execution_count": 64,
   "metadata": {
    "scrolled": true
   },
   "outputs": [
    {
     "data": {
      "text/html": [
       "<div>\n",
       "<style scoped>\n",
       "    .dataframe tbody tr th:only-of-type {\n",
       "        vertical-align: middle;\n",
       "    }\n",
       "\n",
       "    .dataframe tbody tr th {\n",
       "        vertical-align: top;\n",
       "    }\n",
       "\n",
       "    .dataframe thead th {\n",
       "        text-align: right;\n",
       "    }\n",
       "</style>\n",
       "<table border=\"1\" class=\"dataframe\">\n",
       "  <thead>\n",
       "    <tr style=\"text-align: right;\">\n",
       "      <th></th>\n",
       "      <th>date</th>\n",
       "      <th>variable</th>\n",
       "      <th>value</th>\n",
       "    </tr>\n",
       "  </thead>\n",
       "  <tbody>\n",
       "    <tr>\n",
       "      <th>0</th>\n",
       "      <td>2021-01-01</td>\n",
       "      <td>Washing_machines</td>\n",
       "      <td>2.615941e+08</td>\n",
       "    </tr>\n",
       "    <tr>\n",
       "      <th>1</th>\n",
       "      <td>2021-02-01</td>\n",
       "      <td>Washing_machines</td>\n",
       "      <td>4.704606e+08</td>\n",
       "    </tr>\n",
       "    <tr>\n",
       "      <th>2</th>\n",
       "      <td>2021-03-01</td>\n",
       "      <td>Washing_machines</td>\n",
       "      <td>7.293152e+08</td>\n",
       "    </tr>\n",
       "    <tr>\n",
       "      <th>3</th>\n",
       "      <td>2021-04-01</td>\n",
       "      <td>Washing_machines</td>\n",
       "      <td>9.790456e+08</td>\n",
       "    </tr>\n",
       "    <tr>\n",
       "      <th>4</th>\n",
       "      <td>2021-05-01</td>\n",
       "      <td>Washing_machines</td>\n",
       "      <td>1.192384e+09</td>\n",
       "    </tr>\n",
       "    <tr>\n",
       "      <th>5</th>\n",
       "      <td>2021-01-01</td>\n",
       "      <td>Refrigerators</td>\n",
       "      <td>2.097675e+08</td>\n",
       "    </tr>\n",
       "    <tr>\n",
       "      <th>6</th>\n",
       "      <td>2021-02-01</td>\n",
       "      <td>Refrigerators</td>\n",
       "      <td>4.572403e+08</td>\n",
       "    </tr>\n",
       "    <tr>\n",
       "      <th>7</th>\n",
       "      <td>2021-03-01</td>\n",
       "      <td>Refrigerators</td>\n",
       "      <td>7.113957e+08</td>\n",
       "    </tr>\n",
       "    <tr>\n",
       "      <th>8</th>\n",
       "      <td>2021-04-01</td>\n",
       "      <td>Refrigerators</td>\n",
       "      <td>9.425210e+08</td>\n",
       "    </tr>\n",
       "    <tr>\n",
       "      <th>9</th>\n",
       "      <td>2021-05-01</td>\n",
       "      <td>Refrigerators</td>\n",
       "      <td>1.187613e+09</td>\n",
       "    </tr>\n",
       "    <tr>\n",
       "      <th>10</th>\n",
       "      <td>2021-01-01</td>\n",
       "      <td>Ovens</td>\n",
       "      <td>9.015123e+07</td>\n",
       "    </tr>\n",
       "    <tr>\n",
       "      <th>11</th>\n",
       "      <td>2021-02-01</td>\n",
       "      <td>Ovens</td>\n",
       "      <td>1.765220e+08</td>\n",
       "    </tr>\n",
       "    <tr>\n",
       "      <th>12</th>\n",
       "      <td>2021-03-01</td>\n",
       "      <td>Ovens</td>\n",
       "      <td>3.357168e+08</td>\n",
       "    </tr>\n",
       "    <tr>\n",
       "      <th>13</th>\n",
       "      <td>2021-04-01</td>\n",
       "      <td>Ovens</td>\n",
       "      <td>4.460414e+08</td>\n",
       "    </tr>\n",
       "    <tr>\n",
       "      <th>14</th>\n",
       "      <td>2021-05-01</td>\n",
       "      <td>Ovens</td>\n",
       "      <td>5.113021e+08</td>\n",
       "    </tr>\n",
       "  </tbody>\n",
       "</table>\n",
       "</div>"
      ],
      "text/plain": [
       "         date          variable         value\n",
       "0  2021-01-01  Washing_machines  2.615941e+08\n",
       "1  2021-02-01  Washing_machines  4.704606e+08\n",
       "2  2021-03-01  Washing_machines  7.293152e+08\n",
       "3  2021-04-01  Washing_machines  9.790456e+08\n",
       "4  2021-05-01  Washing_machines  1.192384e+09\n",
       "5  2021-01-01     Refrigerators  2.097675e+08\n",
       "6  2021-02-01     Refrigerators  4.572403e+08\n",
       "7  2021-03-01     Refrigerators  7.113957e+08\n",
       "8  2021-04-01     Refrigerators  9.425210e+08\n",
       "9  2021-05-01     Refrigerators  1.187613e+09\n",
       "10 2021-01-01             Ovens  9.015123e+07\n",
       "11 2021-02-01             Ovens  1.765220e+08\n",
       "12 2021-03-01             Ovens  3.357168e+08\n",
       "13 2021-04-01             Ovens  4.460414e+08\n",
       "14 2021-05-01             Ovens  5.113021e+08"
      ]
     },
     "execution_count": 64,
     "metadata": {},
     "output_type": "execute_result"
    }
   ],
   "source": [
    "df_vis"
   ]
  },
  {
   "cell_type": "code",
   "execution_count": 65,
   "metadata": {},
   "outputs": [
    {
     "data": {
      "text/plain": [
       "<AxesSubplot:xlabel='date', ylabel='value'>"
      ]
     },
     "execution_count": 65,
     "metadata": {},
     "output_type": "execute_result"
    },
    {
     "data": {
      "image/png": "[encoded data removed]",
      "text/plain": [
       "<Figure size 864x576 with 1 Axes>"
      ]
     },
     "metadata": {
      "needs_background": "light"
     },
     "output_type": "display_data"
    }
   ],
   "source": [
    "plt.figure(figsize=(12, 8))\n",
    "sns.lineplot(data=df_vis, x=\"date\", y=\"value\", hue = 'variable')"
   ]
  },
  {
   "cell_type": "markdown",
   "metadata": {},
   "source": [
    "7)* Сгенерируйте график, показывающий распредление оборота между различными подкатегориями"
   ]
  },
  {
   "cell_type": "code",
   "execution_count": 66,
   "metadata": {},
   "outputs": [],
   "source": [
    "df_gwv_cater = df_category.query('cat4_name != 0').groupby('cat4_name', as_index = False)\\\n",
    "                            .agg({'total_gmv_period':'sum'}).sort_values(by='total_gmv_period', ascending = False)"
   ]
  },
  {
   "cell_type": "code",
   "execution_count": 67,
   "metadata": {},
   "outputs": [
    {
     "data": {
      "image/png": "[encoded data removed]",
      "text/plain": [
       "<Figure size 864x576 with 1 Axes>"
      ]
     },
     "metadata": {
      "needs_background": "light"
     },
     "output_type": "display_data"
    }
   ],
   "source": [
    "plt.figure(figsize=(12, 8))\n",
    "sns.barplot(data = df_gwv_cater.query('total_gmv_period > 0'), x = 'total_gmv_period', y ='cat4_name')\n",
    "plt.show()"
   ]
  },
  {
   "cell_type": "markdown",
   "metadata": {},
   "source": [
    "## Задание 3. Работа с брендами\n"
   ]
  },
  {
   "cell_type": "markdown",
   "metadata": {},
   "source": [
    "1) Сгенерируйте таблицу с суммарным оборотом брендов во всех категрориях за апрель. Она должна содержать бренд, id бренда и оборот за данный период"
   ]
  },
  {
   "cell_type": "code",
   "execution_count": 69,
   "metadata": {},
   "outputs": [],
   "source": [
    "#Для полноты картины соединим категории с брендами \n",
    "#(я это делала по cat_id)\n",
    "df_all = df_brand.merge(df_category, on = 'cat_id', how = 'inner')"
   ]
  },
  {
   "cell_type": "code",
   "execution_count": 70,
   "metadata": {},
   "outputs": [
    {
     "data": {
      "text/html": [
       "<div>\n",
       "<style scoped>\n",
       "    .dataframe tbody tr th:only-of-type {\n",
       "        vertical-align: middle;\n",
       "    }\n",
       "\n",
       "    .dataframe tbody tr th {\n",
       "        vertical-align: top;\n",
       "    }\n",
       "\n",
       "    .dataframe thead th {\n",
       "        text-align: right;\n",
       "    }\n",
       "</style>\n",
       "<table border=\"1\" class=\"dataframe\">\n",
       "  <thead>\n",
       "    <tr style=\"text-align: right;\">\n",
       "      <th></th>\n",
       "      <th>brand_name</th>\n",
       "      <th>brand_id</th>\n",
       "      <th>brand_gmv_period</th>\n",
       "    </tr>\n",
       "  </thead>\n",
       "  <tbody>\n",
       "    <tr>\n",
       "      <th>0</th>\n",
       "      <td>ABC</td>\n",
       "      <td>851</td>\n",
       "      <td>0.0</td>\n",
       "    </tr>\n",
       "    <tr>\n",
       "      <th>1</th>\n",
       "      <td>AEG</td>\n",
       "      <td>304</td>\n",
       "      <td>99950.0</td>\n",
       "    </tr>\n",
       "    <tr>\n",
       "      <th>2</th>\n",
       "      <td>AEL</td>\n",
       "      <td>824</td>\n",
       "      <td>287750.0</td>\n",
       "    </tr>\n",
       "    <tr>\n",
       "      <th>3</th>\n",
       "      <td>AGU-BABY</td>\n",
       "      <td>2313</td>\n",
       "      <td>0.0</td>\n",
       "    </tr>\n",
       "    <tr>\n",
       "      <th>4</th>\n",
       "      <td>AQUA-WORK</td>\n",
       "      <td>2205</td>\n",
       "      <td>52150.0</td>\n",
       "    </tr>\n",
       "    <tr>\n",
       "      <th>...</th>\n",
       "      <td>...</td>\n",
       "      <td>...</td>\n",
       "      <td>...</td>\n",
       "    </tr>\n",
       "    <tr>\n",
       "      <th>308</th>\n",
       "      <td>Осз</td>\n",
       "      <td>1724</td>\n",
       "      <td>0.0</td>\n",
       "    </tr>\n",
       "    <tr>\n",
       "      <th>309</th>\n",
       "      <td>ПОЛИМЕРБЫТ</td>\n",
       "      <td>993</td>\n",
       "      <td>3490.0</td>\n",
       "    </tr>\n",
       "    <tr>\n",
       "      <th>310</th>\n",
       "      <td>Саратов</td>\n",
       "      <td>873</td>\n",
       "      <td>46428132.5</td>\n",
       "    </tr>\n",
       "    <tr>\n",
       "      <th>311</th>\n",
       "      <td>Славда</td>\n",
       "      <td>548</td>\n",
       "      <td>4143750.0</td>\n",
       "    </tr>\n",
       "    <tr>\n",
       "      <th>312</th>\n",
       "      <td>Фея</td>\n",
       "      <td>2730</td>\n",
       "      <td>17950.0</td>\n",
       "    </tr>\n",
       "  </tbody>\n",
       "</table>\n",
       "<p>313 rows × 3 columns</p>\n",
       "</div>"
      ],
      "text/plain": [
       "     brand_name  brand_id  brand_gmv_period\n",
       "0           ABC       851               0.0\n",
       "1           AEG       304           99950.0\n",
       "2           AEL       824          287750.0\n",
       "3      AGU-BABY      2313               0.0\n",
       "4     AQUA-WORK      2205           52150.0\n",
       "..          ...       ...               ...\n",
       "308         Осз      1724               0.0\n",
       "309  ПОЛИМЕРБЫТ       993            3490.0\n",
       "310     Саратов       873        46428132.5\n",
       "311      Славда       548         4143750.0\n",
       "312         Фея      2730           17950.0\n",
       "\n",
       "[313 rows x 3 columns]"
      ]
     },
     "execution_count": 70,
     "metadata": {},
     "output_type": "execute_result"
    }
   ],
   "source": [
    "df_brands_gmv = df_all.query('date_x == \"2021-04\"').groupby(['brand_name','brand_id'], as_index = False)\\\n",
    "                        .agg({'brand_gmv_period':'sum'}) \n",
    "df_brands_gmv"
   ]
  },
  {
   "cell_type": "markdown",
   "metadata": {},
   "source": [
    "2) Выведите среднюю цену у каждого бренда вне зависимости от периода и категории"
   ]
  },
  {
   "cell_type": "code",
   "execution_count": 71,
   "metadata": {},
   "outputs": [
    {
     "data": {
      "text/html": [
       "<div>\n",
       "<style scoped>\n",
       "    .dataframe tbody tr th:only-of-type {\n",
       "        vertical-align: middle;\n",
       "    }\n",
       "\n",
       "    .dataframe tbody tr th {\n",
       "        vertical-align: top;\n",
       "    }\n",
       "\n",
       "    .dataframe thead th {\n",
       "        text-align: right;\n",
       "    }\n",
       "</style>\n",
       "<table border=\"1\" class=\"dataframe\">\n",
       "  <thead>\n",
       "    <tr style=\"text-align: right;\">\n",
       "      <th></th>\n",
       "      <th>brand_name</th>\n",
       "      <th>brand_w_price_period</th>\n",
       "    </tr>\n",
       "  </thead>\n",
       "  <tbody>\n",
       "    <tr>\n",
       "      <th>0</th>\n",
       "      <td>ABC</td>\n",
       "      <td>5471.250000</td>\n",
       "    </tr>\n",
       "    <tr>\n",
       "      <th>1</th>\n",
       "      <td>AEG</td>\n",
       "      <td>19990.000000</td>\n",
       "    </tr>\n",
       "    <tr>\n",
       "      <th>2</th>\n",
       "      <td>AEL</td>\n",
       "      <td>7102.262000</td>\n",
       "    </tr>\n",
       "    <tr>\n",
       "      <th>3</th>\n",
       "      <td>AGU-BABY</td>\n",
       "      <td>11490.000000</td>\n",
       "    </tr>\n",
       "    <tr>\n",
       "      <th>4</th>\n",
       "      <td>AQUA-WORK</td>\n",
       "      <td>4398.890000</td>\n",
       "    </tr>\n",
       "    <tr>\n",
       "      <th>...</th>\n",
       "      <td>...</td>\n",
       "      <td>...</td>\n",
       "    </tr>\n",
       "    <tr>\n",
       "      <th>316</th>\n",
       "      <td>Осз</td>\n",
       "      <td>166.333333</td>\n",
       "    </tr>\n",
       "    <tr>\n",
       "      <th>317</th>\n",
       "      <td>ПОЛИМЕРБЫТ</td>\n",
       "      <td>349.000000</td>\n",
       "    </tr>\n",
       "    <tr>\n",
       "      <th>318</th>\n",
       "      <td>Саратов</td>\n",
       "      <td>14995.416000</td>\n",
       "    </tr>\n",
       "    <tr>\n",
       "      <th>319</th>\n",
       "      <td>Славда</td>\n",
       "      <td>5732.098000</td>\n",
       "    </tr>\n",
       "    <tr>\n",
       "      <th>320</th>\n",
       "      <td>Фея</td>\n",
       "      <td>3590.000000</td>\n",
       "    </tr>\n",
       "  </tbody>\n",
       "</table>\n",
       "<p>321 rows × 2 columns</p>\n",
       "</div>"
      ],
      "text/plain": [
       "     brand_name  brand_w_price_period\n",
       "0           ABC           5471.250000\n",
       "1           AEG          19990.000000\n",
       "2           AEL           7102.262000\n",
       "3      AGU-BABY          11490.000000\n",
       "4     AQUA-WORK           4398.890000\n",
       "..          ...                   ...\n",
       "316         Осз            166.333333\n",
       "317  ПОЛИМЕРБЫТ            349.000000\n",
       "318     Саратов          14995.416000\n",
       "319      Славда           5732.098000\n",
       "320         Фея           3590.000000\n",
       "\n",
       "[321 rows x 2 columns]"
      ]
     },
     "execution_count": 71,
     "metadata": {},
     "output_type": "execute_result"
    }
   ],
   "source": [
    "df_price_avg = df_all.groupby('brand_name', as_index = False).agg({'brand_w_price_period':'mean'})\n",
    "df_price_avg"
   ]
  },
  {
   "cell_type": "markdown",
   "metadata": {},
   "source": [
    "3) Назовите топ-5 брендов по приросту оборота с января по май 2021 года"
   ]
  },
  {
   "cell_type": "code",
   "execution_count": 72,
   "metadata": {},
   "outputs": [],
   "source": [
    "top_5_gmv = df_brand.groupby(['brand_name','date'], as_index = False)\\\n",
    "                        .agg({'brand_gmv_period':'sum'})"
   ]
  },
  {
   "cell_type": "code",
   "execution_count": 73,
   "metadata": {},
   "outputs": [],
   "source": [
    "top_5_gmv = top_5_gmv.pivot(index='brand_name', columns='date', values='brand_gmv_period')"
   ]
  },
  {
   "cell_type": "code",
   "execution_count": 74,
   "metadata": {
    "scrolled": true
   },
   "outputs": [],
   "source": [
    "top_5_gmv ['brand_gmv_period'] = (top_5_gmv['2021-02'] - top_5_gmv['2021-01'])+\\\n",
    "                                (top_5_gmv['2021-03'] - top_5_gmv['2021-02'])+\\\n",
    "                                (top_5_gmv['2021-04'] - top_5_gmv['2021-03'])+\\\n",
    "                                (top_5_gmv['2021-05'] - top_5_gmv['2021-04'])"
   ]
  },
  {
   "cell_type": "code",
   "execution_count": 75,
   "metadata": {
    "scrolled": false
   },
   "outputs": [
    {
     "data": {
      "text/html": [
       "<div>\n",
       "<style scoped>\n",
       "    .dataframe tbody tr th:only-of-type {\n",
       "        vertical-align: middle;\n",
       "    }\n",
       "\n",
       "    .dataframe tbody tr th {\n",
       "        vertical-align: top;\n",
       "    }\n",
       "\n",
       "    .dataframe thead th {\n",
       "        text-align: right;\n",
       "    }\n",
       "</style>\n",
       "<table border=\"1\" class=\"dataframe\">\n",
       "  <thead>\n",
       "    <tr style=\"text-align: right;\">\n",
       "      <th>date</th>\n",
       "      <th>2021-01</th>\n",
       "      <th>2021-02</th>\n",
       "      <th>2021-03</th>\n",
       "      <th>2021-04</th>\n",
       "      <th>2021-05</th>\n",
       "      <th>brand_gmv_period</th>\n",
       "    </tr>\n",
       "    <tr>\n",
       "      <th>brand_name</th>\n",
       "      <th></th>\n",
       "      <th></th>\n",
       "      <th></th>\n",
       "      <th></th>\n",
       "      <th></th>\n",
       "      <th></th>\n",
       "    </tr>\n",
       "  </thead>\n",
       "  <tbody>\n",
       "    <tr>\n",
       "      <th>Hi</th>\n",
       "      <td>6291078.08</td>\n",
       "      <td>9292784.01</td>\n",
       "      <td>40105194.21</td>\n",
       "      <td>36178056.65</td>\n",
       "      <td>3.996073e+07</td>\n",
       "      <td>3.366965e+07</td>\n",
       "    </tr>\n",
       "    <tr>\n",
       "      <th>Haier</th>\n",
       "      <td>60396872.49</td>\n",
       "      <td>50979091.80</td>\n",
       "      <td>76750188.78</td>\n",
       "      <td>81579172.38</td>\n",
       "      <td>8.352040e+07</td>\n",
       "      <td>2.312353e+07</td>\n",
       "    </tr>\n",
       "    <tr>\n",
       "      <th>Whirlpool</th>\n",
       "      <td>13183083.50</td>\n",
       "      <td>15529293.13</td>\n",
       "      <td>39062716.10</td>\n",
       "      <td>26794607.79</td>\n",
       "      <td>2.345832e+07</td>\n",
       "      <td>1.027524e+07</td>\n",
       "    </tr>\n",
       "    <tr>\n",
       "      <th>Maunfeld</th>\n",
       "      <td>6732367.83</td>\n",
       "      <td>8654481.20</td>\n",
       "      <td>9755382.43</td>\n",
       "      <td>11272786.48</td>\n",
       "      <td>1.279806e+07</td>\n",
       "      <td>6.065688e+06</td>\n",
       "    </tr>\n",
       "    <tr>\n",
       "      <th>Hotpoint-Ariston</th>\n",
       "      <td>39241634.61</td>\n",
       "      <td>46400399.53</td>\n",
       "      <td>67573139.54</td>\n",
       "      <td>48546064.96</td>\n",
       "      <td>4.358200e+07</td>\n",
       "      <td>4.340368e+06</td>\n",
       "    </tr>\n",
       "  </tbody>\n",
       "</table>\n",
       "</div>"
      ],
      "text/plain": [
       "date                  2021-01      2021-02      2021-03      2021-04  \\\n",
       "brand_name                                                             \n",
       "Hi                 6291078.08   9292784.01  40105194.21  36178056.65   \n",
       "Haier             60396872.49  50979091.80  76750188.78  81579172.38   \n",
       "Whirlpool         13183083.50  15529293.13  39062716.10  26794607.79   \n",
       "Maunfeld           6732367.83   8654481.20   9755382.43  11272786.48   \n",
       "Hotpoint-Ariston  39241634.61  46400399.53  67573139.54  48546064.96   \n",
       "\n",
       "date                   2021-05  brand_gmv_period  \n",
       "brand_name                                        \n",
       "Hi                3.996073e+07      3.366965e+07  \n",
       "Haier             8.352040e+07      2.312353e+07  \n",
       "Whirlpool         2.345832e+07      1.027524e+07  \n",
       "Maunfeld          1.279806e+07      6.065688e+06  \n",
       "Hotpoint-Ariston  4.358200e+07      4.340368e+06  "
      ]
     },
     "execution_count": 75,
     "metadata": {},
     "output_type": "execute_result"
    }
   ],
   "source": [
    "top_5_gmv.sort_values('brand_gmv_period', ascending = False).head(5)"
   ]
  },
  {
   "cell_type": "markdown",
   "metadata": {},
   "source": [
    "4) Какие бренды обладают наибольшим количеством доступных для покупки товаров за весну 2021 года?"
   ]
  },
  {
   "cell_type": "code",
   "execution_count": 76,
   "metadata": {
    "scrolled": false
   },
   "outputs": [
    {
     "data": {
      "text/html": [
       "<div>\n",
       "<style scoped>\n",
       "    .dataframe tbody tr th:only-of-type {\n",
       "        vertical-align: middle;\n",
       "    }\n",
       "\n",
       "    .dataframe tbody tr th {\n",
       "        vertical-align: top;\n",
       "    }\n",
       "\n",
       "    .dataframe thead th {\n",
       "        text-align: right;\n",
       "    }\n",
       "</style>\n",
       "<table border=\"1\" class=\"dataframe\">\n",
       "  <thead>\n",
       "    <tr style=\"text-align: right;\">\n",
       "      <th></th>\n",
       "      <th>brand_products_available</th>\n",
       "    </tr>\n",
       "    <tr>\n",
       "      <th>brand_name</th>\n",
       "      <th></th>\n",
       "    </tr>\n",
       "  </thead>\n",
       "  <tbody>\n",
       "    <tr>\n",
       "      <th>Maunfeld</th>\n",
       "      <td>2110</td>\n",
       "    </tr>\n",
       "    <tr>\n",
       "      <th>Mayer&amp;Boch</th>\n",
       "      <td>1713</td>\n",
       "    </tr>\n",
       "    <tr>\n",
       "      <th>REGENT-INOX</th>\n",
       "      <td>1683</td>\n",
       "    </tr>\n",
       "    <tr>\n",
       "      <th>Bosch</th>\n",
       "      <td>1663</td>\n",
       "    </tr>\n",
       "    <tr>\n",
       "      <th>Sistema</th>\n",
       "      <td>1652</td>\n",
       "    </tr>\n",
       "  </tbody>\n",
       "</table>\n",
       "</div>"
      ],
      "text/plain": [
       "             brand_products_available\n",
       "brand_name                           \n",
       "Maunfeld                         2110\n",
       "Mayer&Boch                       1713\n",
       "REGENT-INOX                      1683\n",
       "Bosch                            1663\n",
       "Sistema                          1652"
      ]
     },
     "execution_count": 76,
     "metadata": {},
     "output_type": "execute_result"
    }
   ],
   "source": [
    "df_brand.query('date == \"2021-03\" or date == \"2021-04\" or date == \"2021-05\"').groupby('brand_name')\\\n",
    "                .agg({'brand_products_available':'sum'}).sort_values('brand_products_available', ascending = False).head(5)"
   ]
  },
  {
   "cell_type": "markdown",
   "metadata": {},
   "source": [
    "5) Какие факторы влияют на количество отзывов у бренда в категории?"
   ]
  },
  {
   "cell_type": "code",
   "execution_count": 77,
   "metadata": {
    "scrolled": true
   },
   "outputs": [],
   "source": [
    "#Возьмём категорию \"Чайники электрические\" и релевентные показатели\n",
    "df_rate = df_brand.query('cat_id == 380').groupby('brand_name')\\\n",
    "        .agg({'brand_reviews_period':'sum','brand_products_available':'mean','brand_rate_period':'mean',\\\n",
    "              'brand_w_price_period':'mean','brand_sales_period':'sum'})"
   ]
  },
  {
   "cell_type": "code",
   "execution_count": 78,
   "metadata": {
    "scrolled": false
   },
   "outputs": [],
   "source": [
    "df_rate = df_rate.fillna(0)"
   ]
  },
  {
   "cell_type": "markdown",
   "metadata": {},
   "source": [
    "Так как нам нужно узнать отношение колличественной независимой переменной с зависимыми, то оптимальным методом нахождения влияния будет линейная регрессия"
   ]
  },
  {
   "cell_type": "code",
   "execution_count": 79,
   "metadata": {},
   "outputs": [
    {
     "name": "stdout",
     "output_type": "stream",
     "text": [
      "                             OLS Regression Results                             \n",
      "================================================================================\n",
      "Dep. Variable:     brand_reviews_period   R-squared:                       0.882\n",
      "Model:                              OLS   Adj. R-squared:                  0.875\n",
      "Method:                   Least Squares   F-statistic:                     119.7\n",
      "Date:                  Thu, 24 Nov 2022   Prob (F-statistic):           5.66e-29\n",
      "Time:                          14:33:50   Log-Likelihood:                -384.07\n",
      "No. Observations:                    69   AIC:                             778.1\n",
      "Df Residuals:                        64   BIC:                             789.3\n",
      "Df Model:                             4                                         \n",
      "Covariance Type:              nonrobust                                         \n",
      "============================================================================================\n",
      "                               coef    std err          t      P>|t|      [0.025      0.975]\n",
      "--------------------------------------------------------------------------------------------\n",
      "Intercept                  -20.1242     13.829     -1.455      0.151     -47.751       7.503\n",
      "brand_products_available     5.3655      0.438     12.252      0.000       4.491       6.240\n",
      "brand_rate_period           -3.3281      3.948     -0.843      0.402     -11.215       4.559\n",
      "brand_w_price_period        -0.0026      0.002     -1.095      0.278      -0.007       0.002\n",
      "brand_sales_period           0.0546      0.006      9.609      0.000       0.043       0.066\n",
      "==============================================================================\n",
      "Omnibus:                       46.797   Durbin-Watson:                   2.149\n",
      "Prob(Omnibus):                  0.000   Jarque-Bera (JB):              486.654\n",
      "Skew:                           1.494   Prob(JB):                    2.11e-106\n",
      "Kurtosis:                      15.663   Cond. No.                     7.65e+03\n",
      "==============================================================================\n",
      "\n",
      "Notes:\n",
      "[1] Standard Errors assume that the covariance matrix of the errors is correctly specified.\n",
      "[2] The condition number is large, 7.65e+03. This might indicate that there are\n",
      "strong multicollinearity or other numerical problems.\n"
     ]
    }
   ],
   "source": [
    "#так как brand_rate_period имеет самое маленькое влияние, то эту переменную можно попробовать исключить \n",
    "import statsmodels.api as sm\n",
    "import statsmodels.formula.api as smf \n",
    "\n",
    "results = smf.ols('brand_reviews_period ~ brand_products_available + brand_rate_period + brand_w_price_period + brand_sales_period', df_rate).fit()\n",
    "print(results.summary())"
   ]
  },
  {
   "cell_type": "code",
   "execution_count": 80,
   "metadata": {
    "scrolled": true
   },
   "outputs": [
    {
     "name": "stdout",
     "output_type": "stream",
     "text": [
      "                             OLS Regression Results                             \n",
      "================================================================================\n",
      "Dep. Variable:     brand_reviews_period   R-squared:                       0.881\n",
      "Model:                              OLS   Adj. R-squared:                  0.875\n",
      "Method:                   Least Squares   F-statistic:                     160.1\n",
      "Date:                  Thu, 24 Nov 2022   Prob (F-statistic):           5.83e-30\n",
      "Time:                          14:33:50   Log-Likelihood:                -384.45\n",
      "No. Observations:                    69   AIC:                             776.9\n",
      "Df Residuals:                        65   BIC:                             785.8\n",
      "Df Model:                             3                                         \n",
      "Covariance Type:              nonrobust                                         \n",
      "============================================================================================\n",
      "                               coef    std err          t      P>|t|      [0.025      0.975]\n",
      "--------------------------------------------------------------------------------------------\n",
      "Intercept                  -27.1777     10.986     -2.474      0.016     -49.119      -5.237\n",
      "brand_products_available     5.2940      0.429     12.349      0.000       4.438       6.150\n",
      "brand_sales_period           0.0533      0.005      9.786      0.000       0.042       0.064\n",
      "brand_w_price_period        -0.0023      0.002     -1.000      0.321      -0.007       0.002\n",
      "==============================================================================\n",
      "Omnibus:                       43.495   Durbin-Watson:                   2.101\n",
      "Prob(Omnibus):                  0.000   Jarque-Bera (JB):              440.250\n",
      "Skew:                           1.342   Prob(JB):                     2.52e-96\n",
      "Kurtosis:                      15.080   Cond. No.                     6.00e+03\n",
      "==============================================================================\n",
      "\n",
      "Notes:\n",
      "[1] Standard Errors assume that the covariance matrix of the errors is correctly specified.\n",
      "[2] The condition number is large,  6e+03. This might indicate that there are\n",
      "strong multicollinearity or other numerical problems.\n"
     ]
    }
   ],
   "source": [
    "#мы повысили R**2 и увеличили предсказани способность модели до 88%\n",
    "import statsmodels.api as sm\n",
    "import statsmodels.formula.api as smf \n",
    "\n",
    "results = smf.ols('brand_reviews_period ~ brand_products_available + brand_sales_period + brand_w_price_period', df_rate).fit()\n",
    "print(results.summary())"
   ]
  },
  {
   "cell_type": "markdown",
   "metadata": {},
   "source": [
    "Ответ: наиболее сильно в категории Чайников влияют (ожидаемо) количество доступных продуктов, коичество продаж и чуть меньше влияет цена продукта."
   ]
  },
  {
   "cell_type": "markdown",
   "metadata": {},
   "source": [
    "----------------------------------------------------"
   ]
  },
  {
   "cell_type": "markdown",
   "metadata": {},
   "source": [
    "6)* Создайте словарь, в котором содержатся все категории, в которых был встречен данный бренд (ключом является название бренда)"
   ]
  },
  {
   "cell_type": "code",
   "execution_count": 81,
   "metadata": {
    "scrolled": true
   },
   "outputs": [],
   "source": [
    "df_brands_voc = df_all[['brand_name', 'cat3_name']]"
   ]
  },
  {
   "cell_type": "code",
   "execution_count": 82,
   "metadata": {},
   "outputs": [],
   "source": [
    "df_brands_voc = df_brands_voc.drop_duplicates(keep='first')"
   ]
  },
  {
   "cell_type": "code",
   "execution_count": 83,
   "metadata": {},
   "outputs": [],
   "source": [
    "df_dummies = pd.get_dummies(df_brands_voc['cat3_name'], drop_first = True)"
   ]
  },
  {
   "cell_type": "code",
   "execution_count": 84,
   "metadata": {},
   "outputs": [],
   "source": [
    "df_dummies ['brand_name'] = df_brands_voc ['brand_name']"
   ]
  },
  {
   "cell_type": "code",
   "execution_count": 85,
   "metadata": {},
   "outputs": [],
   "source": [
    "df_brands_voc = df_dummies.melt(id_vars = 'brand_name' , var_name = 'categories')"
   ]
  },
  {
   "cell_type": "code",
   "execution_count": 86,
   "metadata": {},
   "outputs": [],
   "source": [
    "df_brands_voc = df_brands_voc.query('value == 1').groupby('brand_name').categories.apply(list)"
   ]
  },
  {
   "cell_type": "code",
   "execution_count": 87,
   "metadata": {
    "scrolled": true
   },
   "outputs": [],
   "source": [
    "df_brands_voc = df_brands_voc.to_frame()"
   ]
  },
  {
   "cell_type": "code",
   "execution_count": 88,
   "metadata": {},
   "outputs": [
    {
     "data": {
      "text/html": [
       "<div>\n",
       "<style scoped>\n",
       "    .dataframe tbody tr th:only-of-type {\n",
       "        vertical-align: middle;\n",
       "    }\n",
       "\n",
       "    .dataframe tbody tr th {\n",
       "        vertical-align: top;\n",
       "    }\n",
       "\n",
       "    .dataframe thead th {\n",
       "        text-align: right;\n",
       "    }\n",
       "</style>\n",
       "<table border=\"1\" class=\"dataframe\">\n",
       "  <thead>\n",
       "    <tr style=\"text-align: right;\">\n",
       "      <th></th>\n",
       "      <th>categories</th>\n",
       "    </tr>\n",
       "    <tr>\n",
       "      <th>brand_name</th>\n",
       "      <th></th>\n",
       "    </tr>\n",
       "  </thead>\n",
       "  <tbody>\n",
       "    <tr>\n",
       "      <th>ABC</th>\n",
       "      <td>[Кулеры для воды]</td>\n",
       "    </tr>\n",
       "    <tr>\n",
       "      <th>AEG</th>\n",
       "      <td>[Микроволновые печи]</td>\n",
       "    </tr>\n",
       "    <tr>\n",
       "      <th>AEL</th>\n",
       "      <td>[Кулеры для воды]</td>\n",
       "    </tr>\n",
       "    <tr>\n",
       "      <th>AGU-BABY</th>\n",
       "      <td>[Прочая кухонная техника]</td>\n",
       "    </tr>\n",
       "    <tr>\n",
       "      <th>AQUA-WORK</th>\n",
       "      <td>[Кулеры для воды]</td>\n",
       "    </tr>\n",
       "    <tr>\n",
       "      <th>...</th>\n",
       "      <td>...</td>\n",
       "    </tr>\n",
       "    <tr>\n",
       "      <th>Осз</th>\n",
       "      <td>[Посуда]</td>\n",
       "    </tr>\n",
       "    <tr>\n",
       "      <th>ПОЛИМЕРБЫТ</th>\n",
       "      <td>[Кухонные принадлежности, Посуда]</td>\n",
       "    </tr>\n",
       "    <tr>\n",
       "      <th>Саратов</th>\n",
       "      <td>[Морозильники, Холодильники]</td>\n",
       "    </tr>\n",
       "    <tr>\n",
       "      <th>Славда</th>\n",
       "      <td>[Морозильники, Стиральные машины]</td>\n",
       "    </tr>\n",
       "    <tr>\n",
       "      <th>Фея</th>\n",
       "      <td>[Стиральные машины]</td>\n",
       "    </tr>\n",
       "  </tbody>\n",
       "</table>\n",
       "<p>319 rows × 1 columns</p>\n",
       "</div>"
      ],
      "text/plain": [
       "                                   categories\n",
       "brand_name                                   \n",
       "ABC                         [Кулеры для воды]\n",
       "AEG                      [Микроволновые печи]\n",
       "AEL                         [Кулеры для воды]\n",
       "AGU-BABY            [Прочая кухонная техника]\n",
       "AQUA-WORK                   [Кулеры для воды]\n",
       "...                                       ...\n",
       "Осз                                  [Посуда]\n",
       "ПОЛИМЕРБЫТ  [Кухонные принадлежности, Посуда]\n",
       "Саратов          [Морозильники, Холодильники]\n",
       "Славда      [Морозильники, Стиральные машины]\n",
       "Фея                       [Стиральные машины]\n",
       "\n",
       "[319 rows x 1 columns]"
      ]
     },
     "execution_count": 88,
     "metadata": {},
     "output_type": "execute_result"
    }
   ],
   "source": [
    "#сделала в итоге дата-фрейм, мне кажется он удобнее будет :) \n",
    "df_brands_voc"
   ]
  },
  {
   "cell_type": "markdown",
   "metadata": {},
   "source": [
    "## Задание 4. Создание отчета \n",
    "\n",
    "Выберите любой бренд и создайте небольшой отчет по основным показателям за период с января по май 2021 года. Какие показатели Вы включите в анализ? Какие метрики выведете, чтобы сделать вывод об успешности стратегии данного бренда на маркетплейсе? Включите в анализ сравнение бренда с конкурентами, создайте графики, которые помогут лучше понять место бренда на полке, по возможности пропишите рекомендации"
   ]
  },
  {
   "cell_type": "markdown",
   "metadata": {},
   "source": [
    "Oтчет по основным показателям бренда LD за период с января по май 2021 года"
   ]
  },
  {
   "cell_type": "code",
   "execution_count": 89,
   "metadata": {
    "scrolled": true
   },
   "outputs": [],
   "source": [
    "df_lg = df_all.query('brand_name == \"LG\"')"
   ]
  },
  {
   "cell_type": "code",
   "execution_count": 90,
   "metadata": {},
   "outputs": [],
   "source": [
    "#удалим колонки, которые точно не нужны\n",
    "df_lg = df_lg.drop(columns = ['brand_id','date_y','cat1_name'])"
   ]
  },
  {
   "cell_type": "code",
   "execution_count": 91,
   "metadata": {},
   "outputs": [],
   "source": [
    "df_lg_cat = df_lg.groupby('cat3_name', as_index = False)\\\n",
    "            .agg({'brand_sales_period':'sum', 'brand_gmv_period':'sum'})\\\n",
    "            .sort_values('brand_gmv_period',ascending = False)"
   ]
  },
  {
   "cell_type": "code",
   "execution_count": 92,
   "metadata": {
    "scrolled": true
   },
   "outputs": [
    {
     "data": {
      "image/png": "[encoded data removed]",
      "text/plain": [
       "<Figure size 864x576 with 1 Axes>"
      ]
     },
     "metadata": {
      "needs_background": "light"
     },
     "output_type": "display_data"
    }
   ],
   "source": [
    "#посмотрим на распределение продаж с маркетплейсов по категориям \n",
    "plt.figure(figsize=(12, 8))\n",
    "sns.barplot(data = df_lg_cat, x = 'cat3_name', y ='brand_sales_period')\n",
    "plt.xticks(rotation=45)\n",
    "plt.show()"
   ]
  },
  {
   "cell_type": "code",
   "execution_count": 93,
   "metadata": {
    "scrolled": true
   },
   "outputs": [
    {
     "data": {
      "text/plain": [
       "<AxesSubplot:xlabel='brand_rate_period', ylabel='cat3_name'>"
      ]
     },
     "execution_count": 93,
     "metadata": {},
     "output_type": "execute_result"
    },
    {
     "data": {
      "image/png": "[encoded data removed]",
      "text/plain": [
       "<Figure size 864x576 with 1 Axes>"
      ]
     },
     "metadata": {
      "needs_background": "light"
     },
     "output_type": "display_data"
    }
   ],
   "source": [
    "#посмотрим на оценки с маркетплейсов по категориям \n",
    "plt.figure(figsize=(12, 8))\n",
    "sns.boxplot(data=df_lg, x=\"brand_rate_period\",  y=\"cat3_name\")"
   ]
  },
  {
   "cell_type": "code",
   "execution_count": 94,
   "metadata": {
    "scrolled": false
   },
   "outputs": [
    {
     "data": {
      "text/html": [
       "<div>\n",
       "<style scoped>\n",
       "    .dataframe tbody tr th:only-of-type {\n",
       "        vertical-align: middle;\n",
       "    }\n",
       "\n",
       "    .dataframe tbody tr th {\n",
       "        vertical-align: top;\n",
       "    }\n",
       "\n",
       "    .dataframe thead th {\n",
       "        text-align: right;\n",
       "    }\n",
       "</style>\n",
       "<table border=\"1\" class=\"dataframe\">\n",
       "  <thead>\n",
       "    <tr style=\"text-align: right;\">\n",
       "      <th></th>\n",
       "      <th>cat3_name</th>\n",
       "      <th>brand_rate_period</th>\n",
       "    </tr>\n",
       "  </thead>\n",
       "  <tbody>\n",
       "    <tr>\n",
       "      <th>0</th>\n",
       "      <td>Варочные панели</td>\n",
       "      <td>4.333333</td>\n",
       "    </tr>\n",
       "    <tr>\n",
       "      <th>1</th>\n",
       "      <td>Встраиваемые микроволновые печи</td>\n",
       "      <td>NaN</td>\n",
       "    </tr>\n",
       "    <tr>\n",
       "      <th>2</th>\n",
       "      <td>Встраиваемые холодильники</td>\n",
       "      <td>5.000000</td>\n",
       "    </tr>\n",
       "    <tr>\n",
       "      <th>3</th>\n",
       "      <td>Вытяжки</td>\n",
       "      <td>NaN</td>\n",
       "    </tr>\n",
       "    <tr>\n",
       "      <th>4</th>\n",
       "      <td>Духовые шкафы</td>\n",
       "      <td>4.333333</td>\n",
       "    </tr>\n",
       "    <tr>\n",
       "      <th>5</th>\n",
       "      <td>Микроволновые печи</td>\n",
       "      <td>4.748000</td>\n",
       "    </tr>\n",
       "    <tr>\n",
       "      <th>6</th>\n",
       "      <td>Морозильники</td>\n",
       "      <td>NaN</td>\n",
       "    </tr>\n",
       "    <tr>\n",
       "      <th>7</th>\n",
       "      <td>Стиральные машины</td>\n",
       "      <td>4.812000</td>\n",
       "    </tr>\n",
       "    <tr>\n",
       "      <th>8</th>\n",
       "      <td>Холодильники</td>\n",
       "      <td>4.770000</td>\n",
       "    </tr>\n",
       "  </tbody>\n",
       "</table>\n",
       "</div>"
      ],
      "text/plain": [
       "                         cat3_name  brand_rate_period\n",
       "0                  Варочные панели           4.333333\n",
       "1  Встраиваемые микроволновые печи                NaN\n",
       "2        Встраиваемые холодильники           5.000000\n",
       "3                          Вытяжки                NaN\n",
       "4                    Духовые шкафы           4.333333\n",
       "5               Микроволновые печи           4.748000\n",
       "6                     Морозильники                NaN\n",
       "7                Стиральные машины           4.812000\n",
       "8                     Холодильники           4.770000"
      ]
     },
     "execution_count": 94,
     "metadata": {},
     "output_type": "execute_result"
    }
   ],
   "source": [
    "#посмотрим ещё на средние\n",
    "df_lg.groupby('cat3_name', as_index = False)\\\n",
    "            .agg({'brand_rate_period':'mean'})"
   ]
  },
  {
   "cell_type": "code",
   "execution_count": 95,
   "metadata": {
    "scrolled": false
   },
   "outputs": [],
   "source": [
    "gmv_by_date = df_lg.groupby('date_x', as_index = False).agg({'brand_gmv_period':'sum'})"
   ]
  },
  {
   "cell_type": "code",
   "execution_count": 96,
   "metadata": {},
   "outputs": [
    {
     "data": {
      "text/plain": [
       "array([-0.2120575 ,  0.16719492, -0.02914172, -0.12406256])"
      ]
     },
     "execution_count": 96,
     "metadata": {},
     "output_type": "execute_result"
    }
   ],
   "source": [
    "growth_rate = np.exp(np.diff(np.log(gmv_by_date.brand_gmv_period))) - 1 \n",
    "growth_rate"
   ]
  },
  {
   "cell_type": "code",
   "execution_count": 97,
   "metadata": {},
   "outputs": [],
   "source": [
    "gmv_by_date ['grow'] = [0 , -0.2120575 ,  0.16719492, -0.02914172, -0.12406256]"
   ]
  },
  {
   "cell_type": "code",
   "execution_count": 98,
   "metadata": {
    "scrolled": true
   },
   "outputs": [
    {
     "data": {
      "text/html": [
       "<div>\n",
       "<style scoped>\n",
       "    .dataframe tbody tr th:only-of-type {\n",
       "        vertical-align: middle;\n",
       "    }\n",
       "\n",
       "    .dataframe tbody tr th {\n",
       "        vertical-align: top;\n",
       "    }\n",
       "\n",
       "    .dataframe thead th {\n",
       "        text-align: right;\n",
       "    }\n",
       "</style>\n",
       "<table border=\"1\" class=\"dataframe\">\n",
       "  <thead>\n",
       "    <tr style=\"text-align: right;\">\n",
       "      <th></th>\n",
       "      <th>date_x</th>\n",
       "      <th>brand_gmv_period</th>\n",
       "      <th>grow</th>\n",
       "    </tr>\n",
       "  </thead>\n",
       "  <tbody>\n",
       "    <tr>\n",
       "      <th>0</th>\n",
       "      <td>2021-01</td>\n",
       "      <td>754515965.0</td>\n",
       "      <td>0.000000</td>\n",
       "    </tr>\n",
       "    <tr>\n",
       "      <th>1</th>\n",
       "      <td>2021-02</td>\n",
       "      <td>594515197.0</td>\n",
       "      <td>-0.212058</td>\n",
       "    </tr>\n",
       "    <tr>\n",
       "      <th>2</th>\n",
       "      <td>2021-03</td>\n",
       "      <td>693915115.0</td>\n",
       "      <td>0.167195</td>\n",
       "    </tr>\n",
       "    <tr>\n",
       "      <th>3</th>\n",
       "      <td>2021-04</td>\n",
       "      <td>673693235.0</td>\n",
       "      <td>-0.029142</td>\n",
       "    </tr>\n",
       "    <tr>\n",
       "      <th>4</th>\n",
       "      <td>2021-05</td>\n",
       "      <td>590113128.0</td>\n",
       "      <td>-0.124063</td>\n",
       "    </tr>\n",
       "  </tbody>\n",
       "</table>\n",
       "</div>"
      ],
      "text/plain": [
       "    date_x  brand_gmv_period      grow\n",
       "0  2021-01       754515965.0  0.000000\n",
       "1  2021-02       594515197.0 -0.212058\n",
       "2  2021-03       693915115.0  0.167195\n",
       "3  2021-04       673693235.0 -0.029142\n",
       "4  2021-05       590113128.0 -0.124063"
      ]
     },
     "execution_count": 98,
     "metadata": {},
     "output_type": "execute_result"
    }
   ],
   "source": [
    "#показатели прироста не очень хорошие\n",
    "gmv_by_date"
   ]
  },
  {
   "cell_type": "code",
   "execution_count": 99,
   "metadata": {},
   "outputs": [
    {
     "data": {
      "text/plain": [
       "array([ 0.02399163,  0.31893594, -0.21974002, -0.16801032])"
      ]
     },
     "execution_count": 99,
     "metadata": {},
     "output_type": "execute_result"
    }
   ],
   "source": [
    "#посчитаем показатель прироста у всех\n",
    "gmv_all = df_all.groupby('date_x', as_index = False).agg({'brand_gmv_period':'sum'})\n",
    "growth_rate = np.exp(np.diff(np.log(gmv_all.brand_gmv_period))) - 1\n",
    "growth_rate"
   ]
  },
  {
   "cell_type": "code",
   "execution_count": 100,
   "metadata": {},
   "outputs": [],
   "source": [
    "gmv_all ['grow_all'] = [0, 0.02399163,  0.31893594, -0.21974002, -0.16801032 ]"
   ]
  },
  {
   "cell_type": "code",
   "execution_count": 101,
   "metadata": {},
   "outputs": [],
   "source": [
    "gmv = gmv_by_date.merge(gmv_all, on = 'date_x', how = 'left')"
   ]
  },
  {
   "cell_type": "code",
   "execution_count": 102,
   "metadata": {},
   "outputs": [],
   "source": [
    "#и ещё посчитаем долю оборота LG по рынку\n",
    "gmv ['lg_share_gmv'] = gmv.brand_gmv_period_x/gmv.brand_gmv_period_y"
   ]
  },
  {
   "cell_type": "code",
   "execution_count": 103,
   "metadata": {},
   "outputs": [],
   "source": [
    "gmv = gmv.rename(columns={\"brand_gmv_period_x\": \"LG_gmv\", \"grow\": \"LG_grow\",\\\n",
    "                         \"brand_gmv_period_y\": \"all_gmv\", \"grow_all\": \"all_grow\"})"
   ]
  },
  {
   "cell_type": "code",
   "execution_count": 104,
   "metadata": {
    "scrolled": true
   },
   "outputs": [
    {
     "data": {
      "text/html": [
       "<div>\n",
       "<style scoped>\n",
       "    .dataframe tbody tr th:only-of-type {\n",
       "        vertical-align: middle;\n",
       "    }\n",
       "\n",
       "    .dataframe tbody tr th {\n",
       "        vertical-align: top;\n",
       "    }\n",
       "\n",
       "    .dataframe thead th {\n",
       "        text-align: right;\n",
       "    }\n",
       "</style>\n",
       "<table border=\"1\" class=\"dataframe\">\n",
       "  <thead>\n",
       "    <tr style=\"text-align: right;\">\n",
       "      <th></th>\n",
       "      <th>date_x</th>\n",
       "      <th>LG_gmv</th>\n",
       "      <th>LG_grow</th>\n",
       "      <th>all_gmv</th>\n",
       "      <th>all_grow</th>\n",
       "      <th>lg_share_gmv</th>\n",
       "    </tr>\n",
       "  </thead>\n",
       "  <tbody>\n",
       "    <tr>\n",
       "      <th>0</th>\n",
       "      <td>2021-01</td>\n",
       "      <td>754515965.0</td>\n",
       "      <td>0.000000</td>\n",
       "      <td>5.723710e+09</td>\n",
       "      <td>0.000000</td>\n",
       "      <td>0.131823</td>\n",
       "    </tr>\n",
       "    <tr>\n",
       "      <th>1</th>\n",
       "      <td>2021-02</td>\n",
       "      <td>594515197.0</td>\n",
       "      <td>-0.212058</td>\n",
       "      <td>5.861031e+09</td>\n",
       "      <td>0.023992</td>\n",
       "      <td>0.101435</td>\n",
       "    </tr>\n",
       "    <tr>\n",
       "      <th>2</th>\n",
       "      <td>2021-03</td>\n",
       "      <td>693915115.0</td>\n",
       "      <td>0.167195</td>\n",
       "      <td>7.730325e+09</td>\n",
       "      <td>0.318936</td>\n",
       "      <td>0.089765</td>\n",
       "    </tr>\n",
       "    <tr>\n",
       "      <th>3</th>\n",
       "      <td>2021-04</td>\n",
       "      <td>673693235.0</td>\n",
       "      <td>-0.029142</td>\n",
       "      <td>6.031663e+09</td>\n",
       "      <td>-0.219740</td>\n",
       "      <td>0.111693</td>\n",
       "    </tr>\n",
       "    <tr>\n",
       "      <th>4</th>\n",
       "      <td>2021-05</td>\n",
       "      <td>590113128.0</td>\n",
       "      <td>-0.124063</td>\n",
       "      <td>5.018281e+09</td>\n",
       "      <td>-0.168010</td>\n",
       "      <td>0.117593</td>\n",
       "    </tr>\n",
       "  </tbody>\n",
       "</table>\n",
       "</div>"
      ],
      "text/plain": [
       "    date_x       LG_gmv   LG_grow       all_gmv  all_grow  lg_share_gmv\n",
       "0  2021-01  754515965.0  0.000000  5.723710e+09  0.000000      0.131823\n",
       "1  2021-02  594515197.0 -0.212058  5.861031e+09  0.023992      0.101435\n",
       "2  2021-03  693915115.0  0.167195  7.730325e+09  0.318936      0.089765\n",
       "3  2021-04  673693235.0 -0.029142  6.031663e+09 -0.219740      0.111693\n",
       "4  2021-05  590113128.0 -0.124063  5.018281e+09 -0.168010      0.117593"
      ]
     },
     "execution_count": 104,
     "metadata": {},
     "output_type": "execute_result"
    }
   ],
   "source": [
    "#но в мае и апреле у всех брендов был спад,плюс у нас довольно большая доля оборота по рынку\n",
    "gmv"
   ]
  },
  {
   "cell_type": "code",
   "execution_count": 105,
   "metadata": {},
   "outputs": [
    {
     "data": {
      "text/html": [
       "<div>\n",
       "<style scoped>\n",
       "    .dataframe tbody tr th:only-of-type {\n",
       "        vertical-align: middle;\n",
       "    }\n",
       "\n",
       "    .dataframe tbody tr th {\n",
       "        vertical-align: top;\n",
       "    }\n",
       "\n",
       "    .dataframe thead th {\n",
       "        text-align: right;\n",
       "    }\n",
       "</style>\n",
       "<table border=\"1\" class=\"dataframe\">\n",
       "  <thead>\n",
       "    <tr style=\"text-align: right;\">\n",
       "      <th></th>\n",
       "      <th>brand_name</th>\n",
       "      <th>brand_sales_period</th>\n",
       "      <th>brand_gmv_period</th>\n",
       "    </tr>\n",
       "  </thead>\n",
       "  <tbody>\n",
       "    <tr>\n",
       "      <th>33</th>\n",
       "      <td>Bosch</td>\n",
       "      <td>165240.0</td>\n",
       "      <td>4.030973e+09</td>\n",
       "    </tr>\n",
       "    <tr>\n",
       "      <th>143</th>\n",
       "      <td>LG</td>\n",
       "      <td>111500.0</td>\n",
       "      <td>3.306753e+09</td>\n",
       "    </tr>\n",
       "    <tr>\n",
       "      <th>229</th>\n",
       "      <td>Samsung</td>\n",
       "      <td>95000.0</td>\n",
       "      <td>2.632521e+09</td>\n",
       "    </tr>\n",
       "    <tr>\n",
       "      <th>97</th>\n",
       "      <td>Haier</td>\n",
       "      <td>62305.0</td>\n",
       "      <td>1.766129e+09</td>\n",
       "    </tr>\n",
       "    <tr>\n",
       "      <th>118</th>\n",
       "      <td>Indesit</td>\n",
       "      <td>84545.0</td>\n",
       "      <td>1.540810e+09</td>\n",
       "    </tr>\n",
       "  </tbody>\n",
       "</table>\n",
       "</div>"
      ],
      "text/plain": [
       "    brand_name  brand_sales_period  brand_gmv_period\n",
       "33       Bosch            165240.0      4.030973e+09\n",
       "143         LG            111500.0      3.306753e+09\n",
       "229    Samsung             95000.0      2.632521e+09\n",
       "97       Haier             62305.0      1.766129e+09\n",
       "118    Indesit             84545.0      1.540810e+09"
      ]
     },
     "execution_count": 105,
     "metadata": {},
     "output_type": "execute_result"
    }
   ],
   "source": [
    "#посмотрим на наших конкурентов (схожих по обороту и продажам)\n",
    "df_all.groupby('brand_name', as_index = False)\\\n",
    "            .agg({'brand_sales_period':'sum', 'brand_gmv_period':'sum'})\\\n",
    "            .sort_values('brand_gmv_period',ascending = False).head(5)"
   ]
  },
  {
   "cell_type": "code",
   "execution_count": 106,
   "metadata": {},
   "outputs": [],
   "source": [
    "df_LG_others = df_all.query('brand_name == \"Bosch\" or brand_name ==  \"LG\" or brand_name == \"Samsung\" or brand_name ==  \"Haier\" or brand_name ==  \"Indesit\"')"
   ]
  },
  {
   "cell_type": "code",
   "execution_count": 107,
   "metadata": {
    "scrolled": true
   },
   "outputs": [
    {
     "data": {
      "text/html": [
       "<div>\n",
       "<style scoped>\n",
       "    .dataframe tbody tr th:only-of-type {\n",
       "        vertical-align: middle;\n",
       "    }\n",
       "\n",
       "    .dataframe tbody tr th {\n",
       "        vertical-align: top;\n",
       "    }\n",
       "\n",
       "    .dataframe thead th {\n",
       "        text-align: right;\n",
       "    }\n",
       "</style>\n",
       "<table border=\"1\" class=\"dataframe\">\n",
       "  <thead>\n",
       "    <tr style=\"text-align: right;\">\n",
       "      <th></th>\n",
       "      <th>date_x</th>\n",
       "      <th>brand_name</th>\n",
       "      <th>brand_reviews_period</th>\n",
       "    </tr>\n",
       "  </thead>\n",
       "  <tbody>\n",
       "    <tr>\n",
       "      <th>0</th>\n",
       "      <td>2021-01</td>\n",
       "      <td>Bosch</td>\n",
       "      <td>1920</td>\n",
       "    </tr>\n",
       "    <tr>\n",
       "      <th>1</th>\n",
       "      <td>2021-01</td>\n",
       "      <td>Haier</td>\n",
       "      <td>1980</td>\n",
       "    </tr>\n",
       "    <tr>\n",
       "      <th>2</th>\n",
       "      <td>2021-01</td>\n",
       "      <td>Indesit</td>\n",
       "      <td>700</td>\n",
       "    </tr>\n",
       "    <tr>\n",
       "      <th>3</th>\n",
       "      <td>2021-01</td>\n",
       "      <td>LG</td>\n",
       "      <td>1420</td>\n",
       "    </tr>\n",
       "    <tr>\n",
       "      <th>4</th>\n",
       "      <td>2021-01</td>\n",
       "      <td>Samsung</td>\n",
       "      <td>1005</td>\n",
       "    </tr>\n",
       "    <tr>\n",
       "      <th>5</th>\n",
       "      <td>2021-02</td>\n",
       "      <td>Bosch</td>\n",
       "      <td>1180</td>\n",
       "    </tr>\n",
       "    <tr>\n",
       "      <th>6</th>\n",
       "      <td>2021-02</td>\n",
       "      <td>Haier</td>\n",
       "      <td>1560</td>\n",
       "    </tr>\n",
       "    <tr>\n",
       "      <th>7</th>\n",
       "      <td>2021-02</td>\n",
       "      <td>Indesit</td>\n",
       "      <td>725</td>\n",
       "    </tr>\n",
       "    <tr>\n",
       "      <th>8</th>\n",
       "      <td>2021-02</td>\n",
       "      <td>LG</td>\n",
       "      <td>1465</td>\n",
       "    </tr>\n",
       "    <tr>\n",
       "      <th>9</th>\n",
       "      <td>2021-02</td>\n",
       "      <td>Samsung</td>\n",
       "      <td>1070</td>\n",
       "    </tr>\n",
       "    <tr>\n",
       "      <th>10</th>\n",
       "      <td>2021-03</td>\n",
       "      <td>Bosch</td>\n",
       "      <td>1000</td>\n",
       "    </tr>\n",
       "    <tr>\n",
       "      <th>11</th>\n",
       "      <td>2021-03</td>\n",
       "      <td>Haier</td>\n",
       "      <td>1520</td>\n",
       "    </tr>\n",
       "    <tr>\n",
       "      <th>12</th>\n",
       "      <td>2021-03</td>\n",
       "      <td>Indesit</td>\n",
       "      <td>720</td>\n",
       "    </tr>\n",
       "    <tr>\n",
       "      <th>13</th>\n",
       "      <td>2021-03</td>\n",
       "      <td>LG</td>\n",
       "      <td>1205</td>\n",
       "    </tr>\n",
       "    <tr>\n",
       "      <th>14</th>\n",
       "      <td>2021-03</td>\n",
       "      <td>Samsung</td>\n",
       "      <td>1005</td>\n",
       "    </tr>\n",
       "    <tr>\n",
       "      <th>15</th>\n",
       "      <td>2021-04</td>\n",
       "      <td>Bosch</td>\n",
       "      <td>910</td>\n",
       "    </tr>\n",
       "    <tr>\n",
       "      <th>16</th>\n",
       "      <td>2021-04</td>\n",
       "      <td>Haier</td>\n",
       "      <td>1285</td>\n",
       "    </tr>\n",
       "    <tr>\n",
       "      <th>17</th>\n",
       "      <td>2021-04</td>\n",
       "      <td>Indesit</td>\n",
       "      <td>4455</td>\n",
       "    </tr>\n",
       "    <tr>\n",
       "      <th>18</th>\n",
       "      <td>2021-04</td>\n",
       "      <td>LG</td>\n",
       "      <td>1025</td>\n",
       "    </tr>\n",
       "    <tr>\n",
       "      <th>19</th>\n",
       "      <td>2021-04</td>\n",
       "      <td>Samsung</td>\n",
       "      <td>845</td>\n",
       "    </tr>\n",
       "    <tr>\n",
       "      <th>20</th>\n",
       "      <td>2021-05</td>\n",
       "      <td>Bosch</td>\n",
       "      <td>1110</td>\n",
       "    </tr>\n",
       "    <tr>\n",
       "      <th>21</th>\n",
       "      <td>2021-05</td>\n",
       "      <td>Haier</td>\n",
       "      <td>1120</td>\n",
       "    </tr>\n",
       "    <tr>\n",
       "      <th>22</th>\n",
       "      <td>2021-05</td>\n",
       "      <td>Indesit</td>\n",
       "      <td>1215</td>\n",
       "    </tr>\n",
       "    <tr>\n",
       "      <th>23</th>\n",
       "      <td>2021-05</td>\n",
       "      <td>LG</td>\n",
       "      <td>1070</td>\n",
       "    </tr>\n",
       "    <tr>\n",
       "      <th>24</th>\n",
       "      <td>2021-05</td>\n",
       "      <td>Samsung</td>\n",
       "      <td>675</td>\n",
       "    </tr>\n",
       "  </tbody>\n",
       "</table>\n",
       "</div>"
      ],
      "text/plain": [
       "     date_x brand_name  brand_reviews_period\n",
       "0   2021-01      Bosch                  1920\n",
       "1   2021-01      Haier                  1980\n",
       "2   2021-01    Indesit                   700\n",
       "3   2021-01         LG                  1420\n",
       "4   2021-01    Samsung                  1005\n",
       "5   2021-02      Bosch                  1180\n",
       "6   2021-02      Haier                  1560\n",
       "7   2021-02    Indesit                   725\n",
       "8   2021-02         LG                  1465\n",
       "9   2021-02    Samsung                  1070\n",
       "10  2021-03      Bosch                  1000\n",
       "11  2021-03      Haier                  1520\n",
       "12  2021-03    Indesit                   720\n",
       "13  2021-03         LG                  1205\n",
       "14  2021-03    Samsung                  1005\n",
       "15  2021-04      Bosch                   910\n",
       "16  2021-04      Haier                  1285\n",
       "17  2021-04    Indesit                  4455\n",
       "18  2021-04         LG                  1025\n",
       "19  2021-04    Samsung                   845\n",
       "20  2021-05      Bosch                  1110\n",
       "21  2021-05      Haier                  1120\n",
       "22  2021-05    Indesit                  1215\n",
       "23  2021-05         LG                  1070\n",
       "24  2021-05    Samsung                   675"
      ]
     },
     "execution_count": 107,
     "metadata": {},
     "output_type": "execute_result"
    }
   ],
   "source": [
    "#подготовим таблицу, чтобы посомтреть динамику отзывов по брендам \n",
    "df_reviews = df_LG_others.groupby(['date_x', 'brand_name'], as_index = False)\\\n",
    "            .agg({'brand_reviews_period':'sum'})\n",
    "df_reviews"
   ]
  },
  {
   "cell_type": "code",
   "execution_count": 108,
   "metadata": {
    "scrolled": true
   },
   "outputs": [
    {
     "data": {
      "text/plain": [
       "<AxesSubplot:xlabel='date_x', ylabel='brand_reviews_period'>"
      ]
     },
     "execution_count": 108,
     "metadata": {},
     "output_type": "execute_result"
    },
    {
     "data": {
      "image/png": "[encoded data removed]",
      "text/plain": [
       "<Figure size 864x576 with 1 Axes>"
      ]
     },
     "metadata": {
      "needs_background": "light"
     },
     "output_type": "display_data"
    }
   ],
   "source": [
    "#тут тоже есть путь для роста и конкуренты, которые поняли резко поняи важность отзывов \n",
    "plt.figure(figsize=(12, 8))\n",
    "sns.lineplot(data=df_reviews, x=\"date_x\", y=\"brand_reviews_period\", hue = 'brand_name')"
   ]
  },
  {
   "cell_type": "code",
   "execution_count": 109,
   "metadata": {
    "scrolled": true
   },
   "outputs": [
    {
     "data": {
      "text/html": [
       "<div>\n",
       "<style scoped>\n",
       "    .dataframe tbody tr th:only-of-type {\n",
       "        vertical-align: middle;\n",
       "    }\n",
       "\n",
       "    .dataframe tbody tr th {\n",
       "        vertical-align: top;\n",
       "    }\n",
       "\n",
       "    .dataframe thead th {\n",
       "        text-align: right;\n",
       "    }\n",
       "</style>\n",
       "<table border=\"1\" class=\"dataframe\">\n",
       "  <thead>\n",
       "    <tr style=\"text-align: right;\">\n",
       "      <th></th>\n",
       "      <th>brand_name</th>\n",
       "      <th>cat2_name</th>\n",
       "      <th>brand_rate_period</th>\n",
       "    </tr>\n",
       "  </thead>\n",
       "  <tbody>\n",
       "    <tr>\n",
       "      <th>0</th>\n",
       "      <td>Bosch</td>\n",
       "      <td>Встраиваемая техника</td>\n",
       "      <td>4.475758</td>\n",
       "    </tr>\n",
       "    <tr>\n",
       "      <th>1</th>\n",
       "      <td>Bosch</td>\n",
       "      <td>Крупная техника для кухни</td>\n",
       "      <td>4.694815</td>\n",
       "    </tr>\n",
       "    <tr>\n",
       "      <th>2</th>\n",
       "      <td>Bosch</td>\n",
       "      <td>Приготовление пищи</td>\n",
       "      <td>4.841538</td>\n",
       "    </tr>\n",
       "    <tr>\n",
       "      <th>3</th>\n",
       "      <td>Haier</td>\n",
       "      <td>Встраиваемая техника</td>\n",
       "      <td>4.485000</td>\n",
       "    </tr>\n",
       "    <tr>\n",
       "      <th>4</th>\n",
       "      <td>Haier</td>\n",
       "      <td>Крупная техника для кухни</td>\n",
       "      <td>4.721667</td>\n",
       "    </tr>\n",
       "    <tr>\n",
       "      <th>5</th>\n",
       "      <td>Haier</td>\n",
       "      <td>Приготовление пищи</td>\n",
       "      <td>4.594286</td>\n",
       "    </tr>\n",
       "    <tr>\n",
       "      <th>6</th>\n",
       "      <td>Indesit</td>\n",
       "      <td>Встраиваемая техника</td>\n",
       "      <td>4.845000</td>\n",
       "    </tr>\n",
       "    <tr>\n",
       "      <th>7</th>\n",
       "      <td>Indesit</td>\n",
       "      <td>Крупная техника для кухни</td>\n",
       "      <td>4.775429</td>\n",
       "    </tr>\n",
       "    <tr>\n",
       "      <th>8</th>\n",
       "      <td>LG</td>\n",
       "      <td>Встраиваемая техника</td>\n",
       "      <td>4.428571</td>\n",
       "    </tr>\n",
       "    <tr>\n",
       "      <th>9</th>\n",
       "      <td>LG</td>\n",
       "      <td>Крупная техника для кухни</td>\n",
       "      <td>4.791000</td>\n",
       "    </tr>\n",
       "    <tr>\n",
       "      <th>10</th>\n",
       "      <td>LG</td>\n",
       "      <td>Приготовление пищи</td>\n",
       "      <td>4.748000</td>\n",
       "    </tr>\n",
       "    <tr>\n",
       "      <th>11</th>\n",
       "      <td>Samsung</td>\n",
       "      <td>Встраиваемая техника</td>\n",
       "      <td>4.408750</td>\n",
       "    </tr>\n",
       "    <tr>\n",
       "      <th>12</th>\n",
       "      <td>Samsung</td>\n",
       "      <td>Крупная техника для кухни</td>\n",
       "      <td>4.762857</td>\n",
       "    </tr>\n",
       "    <tr>\n",
       "      <th>13</th>\n",
       "      <td>Samsung</td>\n",
       "      <td>Приготовление пищи</td>\n",
       "      <td>4.780000</td>\n",
       "    </tr>\n",
       "  </tbody>\n",
       "</table>\n",
       "</div>"
      ],
      "text/plain": [
       "   brand_name                  cat2_name  brand_rate_period\n",
       "0       Bosch       Встраиваемая техника           4.475758\n",
       "1       Bosch  Крупная техника для кухни           4.694815\n",
       "2       Bosch         Приготовление пищи           4.841538\n",
       "3       Haier       Встраиваемая техника           4.485000\n",
       "4       Haier  Крупная техника для кухни           4.721667\n",
       "5       Haier         Приготовление пищи           4.594286\n",
       "6     Indesit       Встраиваемая техника           4.845000\n",
       "7     Indesit  Крупная техника для кухни           4.775429\n",
       "8          LG       Встраиваемая техника           4.428571\n",
       "9          LG  Крупная техника для кухни           4.791000\n",
       "10         LG         Приготовление пищи           4.748000\n",
       "11    Samsung       Встраиваемая техника           4.408750\n",
       "12    Samsung  Крупная техника для кухни           4.762857\n",
       "13    Samsung         Приготовление пищи           4.780000"
      ]
     },
     "execution_count": 109,
     "metadata": {},
     "output_type": "execute_result"
    }
   ],
   "source": [
    "#посмотрим на средние оценки по крупным категориям \n",
    "df_rate = df_LG_others.query('cat2_name == \"Встраиваемая техника\" or cat2_name == \"Крупная техника для кухни\" or \\\n",
    "                        cat2_name == \"Приготовление пищи\"')\\\n",
    "                        .groupby(['brand_name', 'cat2_name'], as_index = False)\\\n",
    "                        .agg({'brand_rate_period':'mean'})\n",
    "df_rate"
   ]
  },
  {
   "cell_type": "code",
   "execution_count": 110,
   "metadata": {
    "scrolled": false
   },
   "outputs": [
    {
     "data": {
      "text/plain": [
       "<AxesSubplot:xlabel='brand_name', ylabel='brand_rate_period'>"
      ]
     },
     "execution_count": 110,
     "metadata": {},
     "output_type": "execute_result"
    },
    {
     "data": {
      "image/png": "[encoded data removed]",
      "text/plain": [
       "<Figure size 432x288 with 1 Axes>"
      ]
     },
     "metadata": {
      "needs_background": "light"
     },
     "output_type": "display_data"
    }
   ],
   "source": [
    "#в этой категории всё хорошо\n",
    "sns.barplot(data = df_rate.query('cat2_name == \"Крупная техника для кухни\"'), x = 'brand_name', y ='brand_rate_period')"
   ]
  },
  {
   "cell_type": "code",
   "execution_count": 111,
   "metadata": {
    "scrolled": false
   },
   "outputs": [
    {
     "data": {
      "text/plain": [
       "<AxesSubplot:xlabel='brand_name', ylabel='brand_rate_period'>"
      ]
     },
     "execution_count": 111,
     "metadata": {},
     "output_type": "execute_result"
    },
    {
     "data": {
      "image/png": "[encoded data removed]",
      "text/plain": [
       "<Figure size 432x288 with 1 Axes>"
      ]
     },
     "metadata": {
      "needs_background": "light"
     },
     "output_type": "display_data"
    }
   ],
   "source": [
    "#и в этой категории всё хорошо\n",
    "sns.barplot(data = df_rate.query('cat2_name == \"Приготовление пищи\"'), x = 'brand_name', y ='brand_rate_period')"
   ]
  },
  {
   "cell_type": "code",
   "execution_count": 112,
   "metadata": {
    "scrolled": true
   },
   "outputs": [
    {
     "data": {
      "text/plain": [
       "<AxesSubplot:xlabel='brand_name', ylabel='brand_rate_period'>"
      ]
     },
     "execution_count": 112,
     "metadata": {},
     "output_type": "execute_result"
    },
    {
     "data": {
      "image/png": "[encoded data removed]",
      "text/plain": [
       "<Figure size 432x288 with 1 Axes>"
      ]
     },
     "metadata": {
      "needs_background": "light"
     },
     "output_type": "display_data"
    }
   ],
   "source": [
    "#в принципе неплохо, но по сравнению с нашими показателями в других катгориях - немного проседает \n",
    "sns.barplot(data = df_rate.query('cat2_name == \"Встраиваемая техника\"'), x = 'brand_name', y ='brand_rate_period')"
   ]
  },
  {
   "cell_type": "markdown",
   "metadata": {},
   "source": [
    "Выводы: на маркетплейсах у нас чаще покупают крупногабаритную технику для дома - стиральные машины и холодильники. Высокие оценки нам ставят за стиральные машины, холодильники и микроволновые печи (средняя по оценкам больше 4,75 пунктов из 5).\n",
    "\n",
    "\n",
    "У нас довольно большая доля оборота в целом по рынку на маркетплейсах. Но в феврале, апреле и мае 2021 года у LG был спад (на 21, 3 и 12 процентов). В апреле и мае спад был у всех, тем не менее в феврале наш оборот падал уже не из-за общей динамики.\n",
    "\n",
    "\n",
    "Нам также нужно как-то поощрять количество отзывов от клиентов. На май 2021 года мы только на 4 месте по этому показателю, плюс есть снижение колличества отзывов. Также, можно улучшить оценки по категории встраиваемой техники. Важно помнить: чем больше отзывов у товара на маркетплейсе и выше его рейтинг, тем выше товар в поиске и больше вероятность, что его купят."
   ]
  }
 ],
 "metadata": {
  "kernelspec": {
   "display_name": "Python 3 (ipykernel)",
   "language": "python",
   "name": "python3"
  },
  "language_info": {
   "codemirror_mode": {
    "name": "ipython",
    "version": 3
   },
   "file_extension": ".py",
   "mimetype": "text/x-python",
   "name": "python",
   "nbconvert_exporter": "python",
   "pygments_lexer": "ipython3",
   "version": "3.9.12"
  }
 },
 "nbformat": 4,
 "nbformat_minor": 4
}
