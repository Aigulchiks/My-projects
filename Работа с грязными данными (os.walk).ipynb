{
 "cells": [
  {
   "cell_type": "markdown",
   "metadata": {},
   "source": [
    "# Описание"
   ]
  },
  {
   "attachments": {
    "image.png": {
     "image/png": "[encoded data removed]"
    }
   },
   "cell_type": "markdown",
   "metadata": {},
   "source": [
    "Данные имеют следующую структуру:\n",
    "\n",
    "записываются для каждого пользователя, совершившего покупки, каждый день\n",
    "для каждой даты есть своя папка, внутри неё – папки для каждого пользователя\n",
    "внутри каждой папки есть файл data.csv, где и хранятся данные\n",
    "Схематично выглядит так:\n",
    "\n",
    "\n",
    "![image.png](attachment:image.png)\n",
    "\n",
    "\n",
    "\n",
    "Например, 30 декабря три покупателя сделали покупки, 31 – два \n",
    "(папки 2020-12-30 и 2020-12-31 соответственно). Поскольку клиент FirstName_LastName1 купил товары в оба дня, для него имеется папка в папке для каждой из дат. Для других клиентов – по одной.\n",
    "      "
   ]
  },
  {
   "cell_type": "code",
   "execution_count": 3,
   "metadata": {},
   "outputs": [],
   "source": [
    "import pandas as pd\n",
    "import os\n",
    "\n",
    "%matplotlib inline\n",
    "import matplotlib.pyplot as plt\n",
    "import seaborn as sns"
   ]
  },
  {
   "cell_type": "markdown",
   "metadata": {},
   "source": [
    "1.Соберите все данные из папки data в один датафрэйм, имеющий следующие столбцы: колонки из самих файлов (product_id, quantity), а также имя пользователя (name), и дата этих покупок (date), соответствует названию папки, где лежит папка с пользователем)"
   ]
  },
  {
   "cell_type": "code",
   "execution_count": 4,
   "metadata": {},
   "outputs": [
    {
     "name": "stdout",
     "output_type": "stream",
     "text": [
      "('../shared/homeworks/python_ds_miniprojects/4/data', ['2020-12-05', '2020-12-08', '2020-12-09', '2020-12-04', '2020-12-06', '2020-12-03', '2020-12-07'], [])\n",
      "('../shared/homeworks/python_ds_miniprojects/4/data/2020-12-05', ['Petr_Ivanov', 'Petr_Smirnov', 'Rostislav_Smirnov', 'Kirill_Smirnov', 'Alexey_Fedorov', 'Alexey_Petrov'], [])\n",
      "('../shared/homeworks/python_ds_miniprojects/4/data/2020-12-05/Petr_Ivanov', [], ['data.csv'])\n",
      "('../shared/homeworks/python_ds_miniprojects/4/data/2020-12-05/Petr_Smirnov', [], ['data.csv'])\n",
      "('../shared/homeworks/python_ds_miniprojects/4/data/2020-12-05/Rostislav_Smirnov', [], ['data.csv'])\n",
      "('../shared/homeworks/python_ds_miniprojects/4/data/2020-12-05/Kirill_Smirnov', [], ['data.csv'])\n",
      "('../shared/homeworks/python_ds_miniprojects/4/data/2020-12-05/Alexey_Fedorov', [], ['data.csv'])\n",
      "('../shared/homeworks/python_ds_miniprojects/4/data/2020-12-05/Alexey_Petrov', [], ['data.csv'])\n",
      "('../shared/homeworks/python_ds_miniprojects/4/data/2020-12-08', ['Petr_Petrov', 'Rostislav_Petrov', 'Kirill_Smirnov', 'Alexey_Fedorov', 'Anton_Smirnov'], [])\n",
      "('../shared/homeworks/python_ds_miniprojects/4/data/2020-12-08/Petr_Petrov', [], ['data.csv'])\n",
      "('../shared/homeworks/python_ds_miniprojects/4/data/2020-12-08/Rostislav_Petrov', [], ['data.csv'])\n",
      "('../shared/homeworks/python_ds_miniprojects/4/data/2020-12-08/Kirill_Smirnov', [], ['data.csv'])\n",
      "('../shared/homeworks/python_ds_miniprojects/4/data/2020-12-08/Alexey_Fedorov', [], ['data.csv'])\n",
      "('../shared/homeworks/python_ds_miniprojects/4/data/2020-12-08/Anton_Smirnov', [], ['data.csv'])\n",
      "('../shared/homeworks/python_ds_miniprojects/4/data/2020-12-09', ['Alexey_Smirnov', 'Anton_Petrov', 'Rostislav_Petrov', 'Anton_Smirnov', 'Anton_Ivanov', 'Petr_Fedorov', 'Vasiliy_Ivanov'], [])\n",
      "('../shared/homeworks/python_ds_miniprojects/4/data/2020-12-09/Alexey_Smirnov', [], ['data.csv'])\n",
      "('../shared/homeworks/python_ds_miniprojects/4/data/2020-12-09/Anton_Petrov', [], ['data.csv'])\n",
      "('../shared/homeworks/python_ds_miniprojects/4/data/2020-12-09/Rostislav_Petrov', [], ['data.csv'])\n",
      "('../shared/homeworks/python_ds_miniprojects/4/data/2020-12-09/Anton_Smirnov', [], ['data.csv'])\n",
      "('../shared/homeworks/python_ds_miniprojects/4/data/2020-12-09/Anton_Ivanov', [], ['data.csv'])\n",
      "('../shared/homeworks/python_ds_miniprojects/4/data/2020-12-09/Petr_Fedorov', [], ['data.csv'])\n",
      "('../shared/homeworks/python_ds_miniprojects/4/data/2020-12-09/Vasiliy_Ivanov', [], ['data.csv'])\n",
      "('../shared/homeworks/python_ds_miniprojects/4/data/2020-12-04', ['Kirill_Fedorov', 'Alexey_Smirnov', 'Rostislav_Ivanov', 'Petr_Ivanov', 'Rostislav_Fedorov', 'Petr_Smirnov', 'Rostislav_Smirnov', 'Petr_Fedorov', 'Vasiliy_Ivanov'], [])\n",
      "('../shared/homeworks/python_ds_miniprojects/4/data/2020-12-04/Kirill_Fedorov', [], ['data.csv'])\n",
      "('../shared/homeworks/python_ds_miniprojects/4/data/2020-12-04/Alexey_Smirnov', [], ['data.csv'])\n",
      "('../shared/homeworks/python_ds_miniprojects/4/data/2020-12-04/Rostislav_Ivanov', [], ['data.csv'])\n",
      "('../shared/homeworks/python_ds_miniprojects/4/data/2020-12-04/Petr_Ivanov', [], ['data.csv'])\n",
      "('../shared/homeworks/python_ds_miniprojects/4/data/2020-12-04/Rostislav_Fedorov', [], ['data.csv'])\n",
      "('../shared/homeworks/python_ds_miniprojects/4/data/2020-12-04/Petr_Smirnov', [], ['data.csv'])\n",
      "('../shared/homeworks/python_ds_miniprojects/4/data/2020-12-04/Rostislav_Smirnov', [], ['data.csv'])\n",
      "('../shared/homeworks/python_ds_miniprojects/4/data/2020-12-04/Petr_Fedorov', [], ['data.csv'])\n",
      "('../shared/homeworks/python_ds_miniprojects/4/data/2020-12-04/Vasiliy_Ivanov', [], ['data.csv'])\n",
      "('../shared/homeworks/python_ds_miniprojects/4/data/2020-12-06', ['Vasiliy_Fedorov'], [])\n",
      "('../shared/homeworks/python_ds_miniprojects/4/data/2020-12-06/Vasiliy_Fedorov', [], ['data.csv'])\n",
      "('../shared/homeworks/python_ds_miniprojects/4/data/2020-12-03', ['Alexey_Smirnov', 'Anton_Petrov', 'Vasiliy_Petrov', 'Kirill_Petrov', 'Petr_Fedorov', 'Vasiliy_Ivanov'], [])\n",
      "('../shared/homeworks/python_ds_miniprojects/4/data/2020-12-03/Alexey_Smirnov', [], ['data.csv'])\n",
      "('../shared/homeworks/python_ds_miniprojects/4/data/2020-12-03/Anton_Petrov', [], ['data.csv'])\n",
      "('../shared/homeworks/python_ds_miniprojects/4/data/2020-12-03/Vasiliy_Petrov', [], ['data.csv'])\n",
      "('../shared/homeworks/python_ds_miniprojects/4/data/2020-12-03/Kirill_Petrov', [], ['data.csv'])\n",
      "('../shared/homeworks/python_ds_miniprojects/4/data/2020-12-03/Petr_Fedorov', [], ['data.csv'])\n",
      "('../shared/homeworks/python_ds_miniprojects/4/data/2020-12-03/Vasiliy_Ivanov', [], ['data.csv'])\n",
      "('../shared/homeworks/python_ds_miniprojects/4/data/2020-12-07', ['Kirill_Fedorov', 'Alexey_Smirnov', 'Rostislav_Fedorov', 'Alexey_Ivanov', 'Petr_Smirnov', 'Alexey_Fedorov', 'Anton_Smirnov', 'Anton_Ivanov', 'Petr_Fedorov', 'Vasiliy_Ivanov'], [])\n",
      "('../shared/homeworks/python_ds_miniprojects/4/data/2020-12-07/Kirill_Fedorov', [], ['data.csv'])\n",
      "('../shared/homeworks/python_ds_miniprojects/4/data/2020-12-07/Alexey_Smirnov', [], ['data.csv'])\n",
      "('../shared/homeworks/python_ds_miniprojects/4/data/2020-12-07/Rostislav_Fedorov', [], ['data.csv'])\n",
      "('../shared/homeworks/python_ds_miniprojects/4/data/2020-12-07/Alexey_Ivanov', [], ['data.csv'])\n",
      "('../shared/homeworks/python_ds_miniprojects/4/data/2020-12-07/Petr_Smirnov', [], ['data.csv'])\n",
      "('../shared/homeworks/python_ds_miniprojects/4/data/2020-12-07/Alexey_Fedorov', [], ['data.csv'])\n",
      "('../shared/homeworks/python_ds_miniprojects/4/data/2020-12-07/Anton_Smirnov', [], ['data.csv'])\n",
      "('../shared/homeworks/python_ds_miniprojects/4/data/2020-12-07/Anton_Ivanov', [], ['data.csv'])\n",
      "('../shared/homeworks/python_ds_miniprojects/4/data/2020-12-07/Petr_Fedorov', [], ['data.csv'])\n",
      "('../shared/homeworks/python_ds_miniprojects/4/data/2020-12-07/Vasiliy_Ivanov', [], ['data.csv'])\n"
     ]
    }
   ],
   "source": [
    "tree = os.walk('../shared/homeworks/python_ds_miniprojects/4/data')\n",
    "\n",
    "for item in tree:\n",
    "    print(item)"
   ]
  },
  {
   "cell_type": "code",
   "execution_count": 5,
   "metadata": {},
   "outputs": [],
   "source": [
    "tree = os.walk('../shared/homeworks/python_ds_miniprojects/4/data')\n",
    "data_files = []\n",
    "target_file = 'data.csv'\n",
    "\n",
    "for item in tree:\n",
    "    files = item[-1]\n",
    "    \n",
    "    if len(files) > 0 and target_file in files:\n",
    "        path = os.path.join(item[0],target_file)\n",
    "        data_files.append(path)"
   ]
  },
  {
   "cell_type": "code",
   "execution_count": 6,
   "metadata": {},
   "outputs": [
    {
     "data": {
      "text/plain": [
       "['../shared/homeworks/python_ds_miniprojects/4/data/2020-12-05/Petr_Ivanov/data.csv',\n",
       " '../shared/homeworks/python_ds_miniprojects/4/data/2020-12-05/Petr_Smirnov/data.csv',\n",
       " '../shared/homeworks/python_ds_miniprojects/4/data/2020-12-05/Rostislav_Smirnov/data.csv',\n",
       " '../shared/homeworks/python_ds_miniprojects/4/data/2020-12-05/Kirill_Smirnov/data.csv',\n",
       " '../shared/homeworks/python_ds_miniprojects/4/data/2020-12-05/Alexey_Fedorov/data.csv',\n",
       " '../shared/homeworks/python_ds_miniprojects/4/data/2020-12-05/Alexey_Petrov/data.csv',\n",
       " '../shared/homeworks/python_ds_miniprojects/4/data/2020-12-08/Petr_Petrov/data.csv',\n",
       " '../shared/homeworks/python_ds_miniprojects/4/data/2020-12-08/Rostislav_Petrov/data.csv',\n",
       " '../shared/homeworks/python_ds_miniprojects/4/data/2020-12-08/Kirill_Smirnov/data.csv',\n",
       " '../shared/homeworks/python_ds_miniprojects/4/data/2020-12-08/Alexey_Fedorov/data.csv',\n",
       " '../shared/homeworks/python_ds_miniprojects/4/data/2020-12-08/Anton_Smirnov/data.csv',\n",
       " '../shared/homeworks/python_ds_miniprojects/4/data/2020-12-09/Alexey_Smirnov/data.csv',\n",
       " '../shared/homeworks/python_ds_miniprojects/4/data/2020-12-09/Anton_Petrov/data.csv',\n",
       " '../shared/homeworks/python_ds_miniprojects/4/data/2020-12-09/Rostislav_Petrov/data.csv',\n",
       " '../shared/homeworks/python_ds_miniprojects/4/data/2020-12-09/Anton_Smirnov/data.csv',\n",
       " '../shared/homeworks/python_ds_miniprojects/4/data/2020-12-09/Anton_Ivanov/data.csv',\n",
       " '../shared/homeworks/python_ds_miniprojects/4/data/2020-12-09/Petr_Fedorov/data.csv',\n",
       " '../shared/homeworks/python_ds_miniprojects/4/data/2020-12-09/Vasiliy_Ivanov/data.csv',\n",
       " '../shared/homeworks/python_ds_miniprojects/4/data/2020-12-04/Kirill_Fedorov/data.csv',\n",
       " '../shared/homeworks/python_ds_miniprojects/4/data/2020-12-04/Alexey_Smirnov/data.csv',\n",
       " '../shared/homeworks/python_ds_miniprojects/4/data/2020-12-04/Rostislav_Ivanov/data.csv',\n",
       " '../shared/homeworks/python_ds_miniprojects/4/data/2020-12-04/Petr_Ivanov/data.csv',\n",
       " '../shared/homeworks/python_ds_miniprojects/4/data/2020-12-04/Rostislav_Fedorov/data.csv',\n",
       " '../shared/homeworks/python_ds_miniprojects/4/data/2020-12-04/Petr_Smirnov/data.csv',\n",
       " '../shared/homeworks/python_ds_miniprojects/4/data/2020-12-04/Rostislav_Smirnov/data.csv',\n",
       " '../shared/homeworks/python_ds_miniprojects/4/data/2020-12-04/Petr_Fedorov/data.csv',\n",
       " '../shared/homeworks/python_ds_miniprojects/4/data/2020-12-04/Vasiliy_Ivanov/data.csv',\n",
       " '../shared/homeworks/python_ds_miniprojects/4/data/2020-12-06/Vasiliy_Fedorov/data.csv',\n",
       " '../shared/homeworks/python_ds_miniprojects/4/data/2020-12-03/Alexey_Smirnov/data.csv',\n",
       " '../shared/homeworks/python_ds_miniprojects/4/data/2020-12-03/Anton_Petrov/data.csv',\n",
       " '../shared/homeworks/python_ds_miniprojects/4/data/2020-12-03/Vasiliy_Petrov/data.csv',\n",
       " '../shared/homeworks/python_ds_miniprojects/4/data/2020-12-03/Kirill_Petrov/data.csv',\n",
       " '../shared/homeworks/python_ds_miniprojects/4/data/2020-12-03/Petr_Fedorov/data.csv',\n",
       " '../shared/homeworks/python_ds_miniprojects/4/data/2020-12-03/Vasiliy_Ivanov/data.csv',\n",
       " '../shared/homeworks/python_ds_miniprojects/4/data/2020-12-07/Kirill_Fedorov/data.csv',\n",
       " '../shared/homeworks/python_ds_miniprojects/4/data/2020-12-07/Alexey_Smirnov/data.csv',\n",
       " '../shared/homeworks/python_ds_miniprojects/4/data/2020-12-07/Rostislav_Fedorov/data.csv',\n",
       " '../shared/homeworks/python_ds_miniprojects/4/data/2020-12-07/Alexey_Ivanov/data.csv',\n",
       " '../shared/homeworks/python_ds_miniprojects/4/data/2020-12-07/Petr_Smirnov/data.csv',\n",
       " '../shared/homeworks/python_ds_miniprojects/4/data/2020-12-07/Alexey_Fedorov/data.csv',\n",
       " '../shared/homeworks/python_ds_miniprojects/4/data/2020-12-07/Anton_Smirnov/data.csv',\n",
       " '../shared/homeworks/python_ds_miniprojects/4/data/2020-12-07/Anton_Ivanov/data.csv',\n",
       " '../shared/homeworks/python_ds_miniprojects/4/data/2020-12-07/Petr_Fedorov/data.csv',\n",
       " '../shared/homeworks/python_ds_miniprojects/4/data/2020-12-07/Vasiliy_Ivanov/data.csv']"
      ]
     },
     "execution_count": 6,
     "metadata": {},
     "output_type": "execute_result"
    }
   ],
   "source": [
    "data_files"
   ]
  },
  {
   "cell_type": "code",
   "execution_count": 7,
   "metadata": {},
   "outputs": [],
   "source": [
    "data_files_df = [] \n",
    "\n",
    "for path in data_files:\n",
    "            df = pd.read_csv(path, index_col = 0)\n",
    "            path_fragments = path.split('/') \n",
    "            name = path_fragments[7]\n",
    "            date = path_fragments[6]\n",
    "            df['name'] = name\n",
    "            df['date'] = date\n",
    "            data_files_df.append(df)"
   ]
  },
  {
   "cell_type": "code",
   "execution_count": 8,
   "metadata": {
    "scrolled": false
   },
   "outputs": [
    {
     "data": {
      "text/html": [
       "<div>\n",
       "<style scoped>\n",
       "    .dataframe tbody tr th:only-of-type {\n",
       "        vertical-align: middle;\n",
       "    }\n",
       "\n",
       "    .dataframe tbody tr th {\n",
       "        vertical-align: top;\n",
       "    }\n",
       "\n",
       "    .dataframe thead th {\n",
       "        text-align: right;\n",
       "    }\n",
       "</style>\n",
       "<table border=\"1\" class=\"dataframe\">\n",
       "  <thead>\n",
       "    <tr style=\"text-align: right;\">\n",
       "      <th></th>\n",
       "      <th>product_id</th>\n",
       "      <th>quantity</th>\n",
       "      <th>name</th>\n",
       "      <th>date</th>\n",
       "    </tr>\n",
       "  </thead>\n",
       "  <tbody>\n",
       "    <tr>\n",
       "      <th>0</th>\n",
       "      <td>27</td>\n",
       "      <td>4</td>\n",
       "      <td>Petr_Ivanov</td>\n",
       "      <td>2020-12-05</td>\n",
       "    </tr>\n",
       "    <tr>\n",
       "      <th>1</th>\n",
       "      <td>89</td>\n",
       "      <td>1</td>\n",
       "      <td>Petr_Ivanov</td>\n",
       "      <td>2020-12-05</td>\n",
       "    </tr>\n",
       "    <tr>\n",
       "      <th>2</th>\n",
       "      <td>33</td>\n",
       "      <td>2</td>\n",
       "      <td>Petr_Ivanov</td>\n",
       "      <td>2020-12-05</td>\n",
       "    </tr>\n",
       "    <tr>\n",
       "      <th>3</th>\n",
       "      <td>8</td>\n",
       "      <td>3</td>\n",
       "      <td>Petr_Ivanov</td>\n",
       "      <td>2020-12-05</td>\n",
       "    </tr>\n",
       "    <tr>\n",
       "      <th>4</th>\n",
       "      <td>16</td>\n",
       "      <td>1</td>\n",
       "      <td>Petr_Ivanov</td>\n",
       "      <td>2020-12-05</td>\n",
       "    </tr>\n",
       "  </tbody>\n",
       "</table>\n",
       "</div>"
      ],
      "text/plain": [
       "   product_id  quantity         name        date\n",
       "0          27         4  Petr_Ivanov  2020-12-05\n",
       "1          89         1  Petr_Ivanov  2020-12-05\n",
       "2          33         2  Petr_Ivanov  2020-12-05\n",
       "3           8         3  Petr_Ivanov  2020-12-05\n",
       "4          16         1  Petr_Ivanov  2020-12-05"
      ]
     },
     "execution_count": 8,
     "metadata": {},
     "output_type": "execute_result"
    }
   ],
   "source": [
    "data_files_df[0].head()"
   ]
  },
  {
   "cell_type": "code",
   "execution_count": 9,
   "metadata": {},
   "outputs": [],
   "source": [
    "data = pd.concat(data_files_df, ignore_index=True)"
   ]
  },
  {
   "cell_type": "code",
   "execution_count": 10,
   "metadata": {
    "scrolled": true
   },
   "outputs": [
    {
     "data": {
      "text/html": [
       "<div>\n",
       "<style scoped>\n",
       "    .dataframe tbody tr th:only-of-type {\n",
       "        vertical-align: middle;\n",
       "    }\n",
       "\n",
       "    .dataframe tbody tr th {\n",
       "        vertical-align: top;\n",
       "    }\n",
       "\n",
       "    .dataframe thead th {\n",
       "        text-align: right;\n",
       "    }\n",
       "</style>\n",
       "<table border=\"1\" class=\"dataframe\">\n",
       "  <thead>\n",
       "    <tr style=\"text-align: right;\">\n",
       "      <th></th>\n",
       "      <th>product_id</th>\n",
       "      <th>quantity</th>\n",
       "      <th>name</th>\n",
       "      <th>date</th>\n",
       "    </tr>\n",
       "  </thead>\n",
       "  <tbody>\n",
       "    <tr>\n",
       "      <th>0</th>\n",
       "      <td>27</td>\n",
       "      <td>4</td>\n",
       "      <td>Petr_Ivanov</td>\n",
       "      <td>2020-12-05</td>\n",
       "    </tr>\n",
       "    <tr>\n",
       "      <th>1</th>\n",
       "      <td>89</td>\n",
       "      <td>1</td>\n",
       "      <td>Petr_Ivanov</td>\n",
       "      <td>2020-12-05</td>\n",
       "    </tr>\n",
       "    <tr>\n",
       "      <th>2</th>\n",
       "      <td>33</td>\n",
       "      <td>2</td>\n",
       "      <td>Petr_Ivanov</td>\n",
       "      <td>2020-12-05</td>\n",
       "    </tr>\n",
       "    <tr>\n",
       "      <th>3</th>\n",
       "      <td>8</td>\n",
       "      <td>3</td>\n",
       "      <td>Petr_Ivanov</td>\n",
       "      <td>2020-12-05</td>\n",
       "    </tr>\n",
       "    <tr>\n",
       "      <th>4</th>\n",
       "      <td>16</td>\n",
       "      <td>1</td>\n",
       "      <td>Petr_Ivanov</td>\n",
       "      <td>2020-12-05</td>\n",
       "    </tr>\n",
       "    <tr>\n",
       "      <th>...</th>\n",
       "      <td>...</td>\n",
       "      <td>...</td>\n",
       "      <td>...</td>\n",
       "      <td>...</td>\n",
       "    </tr>\n",
       "    <tr>\n",
       "      <th>156</th>\n",
       "      <td>18</td>\n",
       "      <td>4</td>\n",
       "      <td>Petr_Fedorov</td>\n",
       "      <td>2020-12-07</td>\n",
       "    </tr>\n",
       "    <tr>\n",
       "      <th>157</th>\n",
       "      <td>94</td>\n",
       "      <td>4</td>\n",
       "      <td>Petr_Fedorov</td>\n",
       "      <td>2020-12-07</td>\n",
       "    </tr>\n",
       "    <tr>\n",
       "      <th>158</th>\n",
       "      <td>95</td>\n",
       "      <td>2</td>\n",
       "      <td>Vasiliy_Ivanov</td>\n",
       "      <td>2020-12-07</td>\n",
       "    </tr>\n",
       "    <tr>\n",
       "      <th>159</th>\n",
       "      <td>83</td>\n",
       "      <td>3</td>\n",
       "      <td>Vasiliy_Ivanov</td>\n",
       "      <td>2020-12-07</td>\n",
       "    </tr>\n",
       "    <tr>\n",
       "      <th>160</th>\n",
       "      <td>64</td>\n",
       "      <td>1</td>\n",
       "      <td>Vasiliy_Ivanov</td>\n",
       "      <td>2020-12-07</td>\n",
       "    </tr>\n",
       "  </tbody>\n",
       "</table>\n",
       "<p>161 rows × 4 columns</p>\n",
       "</div>"
      ],
      "text/plain": [
       "     product_id  quantity            name        date\n",
       "0            27         4     Petr_Ivanov  2020-12-05\n",
       "1            89         1     Petr_Ivanov  2020-12-05\n",
       "2            33         2     Petr_Ivanov  2020-12-05\n",
       "3             8         3     Petr_Ivanov  2020-12-05\n",
       "4            16         1     Petr_Ivanov  2020-12-05\n",
       "..          ...       ...             ...         ...\n",
       "156          18         4    Petr_Fedorov  2020-12-07\n",
       "157          94         4    Petr_Fedorov  2020-12-07\n",
       "158          95         2  Vasiliy_Ivanov  2020-12-07\n",
       "159          83         3  Vasiliy_Ivanov  2020-12-07\n",
       "160          64         1  Vasiliy_Ivanov  2020-12-07\n",
       "\n",
       "[161 rows x 4 columns]"
      ]
     },
     "execution_count": 10,
     "metadata": {},
     "output_type": "execute_result"
    }
   ],
   "source": [
    "data"
   ]
  },
  {
   "cell_type": "code",
   "execution_count": 11,
   "metadata": {},
   "outputs": [
    {
     "data": {
      "text/plain": [
       "480"
      ]
     },
     "execution_count": 11,
     "metadata": {},
     "output_type": "execute_result"
    }
   ],
   "source": [
    "data.quantity.sum()"
   ]
  },
  {
   "cell_type": "markdown",
   "metadata": {},
   "source": [
    "2.Выясните, какой пользователь купил больше всего товаров."
   ]
  },
  {
   "cell_type": "code",
   "execution_count": 12,
   "metadata": {
    "scrolled": true
   },
   "outputs": [
    {
     "data": {
      "text/html": [
       "<div>\n",
       "<style scoped>\n",
       "    .dataframe tbody tr th:only-of-type {\n",
       "        vertical-align: middle;\n",
       "    }\n",
       "\n",
       "    .dataframe tbody tr th {\n",
       "        vertical-align: top;\n",
       "    }\n",
       "\n",
       "    .dataframe thead th {\n",
       "        text-align: right;\n",
       "    }\n",
       "</style>\n",
       "<table border=\"1\" class=\"dataframe\">\n",
       "  <thead>\n",
       "    <tr style=\"text-align: right;\">\n",
       "      <th></th>\n",
       "      <th>quantity</th>\n",
       "    </tr>\n",
       "    <tr>\n",
       "      <th>name</th>\n",
       "      <th></th>\n",
       "    </tr>\n",
       "  </thead>\n",
       "  <tbody>\n",
       "    <tr>\n",
       "      <th>Alexey_Fedorov</th>\n",
       "      <td>24</td>\n",
       "    </tr>\n",
       "    <tr>\n",
       "      <th>Alexey_Ivanov</th>\n",
       "      <td>17</td>\n",
       "    </tr>\n",
       "    <tr>\n",
       "      <th>Alexey_Petrov</th>\n",
       "      <td>7</td>\n",
       "    </tr>\n",
       "    <tr>\n",
       "      <th>Alexey_Smirnov</th>\n",
       "      <td>52</td>\n",
       "    </tr>\n",
       "    <tr>\n",
       "      <th>Anton_Ivanov</th>\n",
       "      <td>23</td>\n",
       "    </tr>\n",
       "    <tr>\n",
       "      <th>Anton_Petrov</th>\n",
       "      <td>18</td>\n",
       "    </tr>\n",
       "    <tr>\n",
       "      <th>Anton_Smirnov</th>\n",
       "      <td>45</td>\n",
       "    </tr>\n",
       "    <tr>\n",
       "      <th>Kirill_Fedorov</th>\n",
       "      <td>28</td>\n",
       "    </tr>\n",
       "    <tr>\n",
       "      <th>Kirill_Petrov</th>\n",
       "      <td>9</td>\n",
       "    </tr>\n",
       "    <tr>\n",
       "      <th>Kirill_Smirnov</th>\n",
       "      <td>17</td>\n",
       "    </tr>\n",
       "    <tr>\n",
       "      <th>Petr_Fedorov</th>\n",
       "      <td>34</td>\n",
       "    </tr>\n",
       "    <tr>\n",
       "      <th>Petr_Ivanov</th>\n",
       "      <td>21</td>\n",
       "    </tr>\n",
       "    <tr>\n",
       "      <th>Petr_Petrov</th>\n",
       "      <td>14</td>\n",
       "    </tr>\n",
       "    <tr>\n",
       "      <th>Petr_Smirnov</th>\n",
       "      <td>52</td>\n",
       "    </tr>\n",
       "    <tr>\n",
       "      <th>Rostislav_Fedorov</th>\n",
       "      <td>16</td>\n",
       "    </tr>\n",
       "    <tr>\n",
       "      <th>Rostislav_Ivanov</th>\n",
       "      <td>9</td>\n",
       "    </tr>\n",
       "    <tr>\n",
       "      <th>Rostislav_Petrov</th>\n",
       "      <td>28</td>\n",
       "    </tr>\n",
       "    <tr>\n",
       "      <th>Rostislav_Smirnov</th>\n",
       "      <td>17</td>\n",
       "    </tr>\n",
       "    <tr>\n",
       "      <th>Vasiliy_Fedorov</th>\n",
       "      <td>15</td>\n",
       "    </tr>\n",
       "    <tr>\n",
       "      <th>Vasiliy_Ivanov</th>\n",
       "      <td>27</td>\n",
       "    </tr>\n",
       "    <tr>\n",
       "      <th>Vasiliy_Petrov</th>\n",
       "      <td>7</td>\n",
       "    </tr>\n",
       "  </tbody>\n",
       "</table>\n",
       "</div>"
      ],
      "text/plain": [
       "                   quantity\n",
       "name                       \n",
       "Alexey_Fedorov           24\n",
       "Alexey_Ivanov            17\n",
       "Alexey_Petrov             7\n",
       "Alexey_Smirnov           52\n",
       "Anton_Ivanov             23\n",
       "Anton_Petrov             18\n",
       "Anton_Smirnov            45\n",
       "Kirill_Fedorov           28\n",
       "Kirill_Petrov             9\n",
       "Kirill_Smirnov           17\n",
       "Petr_Fedorov             34\n",
       "Petr_Ivanov              21\n",
       "Petr_Petrov              14\n",
       "Petr_Smirnov             52\n",
       "Rostislav_Fedorov        16\n",
       "Rostislav_Ivanov          9\n",
       "Rostislav_Petrov         28\n",
       "Rostislav_Smirnov        17\n",
       "Vasiliy_Fedorov          15\n",
       "Vasiliy_Ivanov           27\n",
       "Vasiliy_Petrov            7"
      ]
     },
     "execution_count": 12,
     "metadata": {},
     "output_type": "execute_result"
    }
   ],
   "source": [
    "data.groupby('name')\\\n",
    "    .agg({'quantity':'sum'})"
   ]
  },
  {
   "cell_type": "markdown",
   "metadata": {},
   "source": [
    "3.Найдите топ-10 товаров по числу проданных единиц за всё время и постройте барплот (столбчатую диаграмму, sns.barplot), где:\n",
    "по оси x – идентификаторы товаров (product_id) \n",
    "по оси y – суммарное число их покупок (сколько товаров с таким product_id было продано)"
   ]
  },
  {
   "cell_type": "code",
   "execution_count": 13,
   "metadata": {},
   "outputs": [],
   "source": [
    "top_10 = data.groupby('product_id', as_index = False)\\\n",
    "    .agg({'quantity':'sum'})\\\n",
    "    .sort_values('quantity', ascending = False)\\\n",
    "    .head(10)"
   ]
  },
  {
   "cell_type": "code",
   "execution_count": 14,
   "metadata": {
    "scrolled": true
   },
   "outputs": [
    {
     "data": {
      "image/png": "[encoded data removed]",
      "text/plain": [
       "<Figure size 432x288 with 1 Axes>"
      ]
     },
     "metadata": {
      "needs_background": "light"
     },
     "output_type": "display_data"
    }
   ],
   "source": [
    "ax = sns.barplot(x=\"product_id\", y=\"quantity\", data=top_10)"
   ]
  },
  {
   "cell_type": "markdown",
   "metadata": {},
   "source": [
    "4.Посмотрим на продажи по дням! По оси x будут дни, по которым у нас есть данные (date). "
   ]
  },
  {
   "cell_type": "code",
   "execution_count": 15,
   "metadata": {},
   "outputs": [],
   "source": [
    "days_df = data.groupby('date', as_index = False)\\\n",
    "    .agg({'quantity':'sum'})"
   ]
  },
  {
   "cell_type": "code",
   "execution_count": 16,
   "metadata": {
    "scrolled": true
   },
   "outputs": [
    {
     "data": {
      "text/plain": [
       "(array([0, 1, 2, 3, 4, 5, 6]), <a list of 7 Text major ticklabel objects>)"
      ]
     },
     "execution_count": 16,
     "metadata": {},
     "output_type": "execute_result"
    },
    {
     "data": {
      "image/png": "[encoded data removed]",
      "text/plain": [
       "<Figure size 432x288 with 1 Axes>"
      ]
     },
     "metadata": {
      "needs_background": "light"
     },
     "output_type": "display_data"
    }
   ],
   "source": [
    "ax = sns.barplot(x=\"date\", y=\"quantity\", data=days_df)\n",
    "plt.xticks(rotation=45)"
   ]
  },
  {
   "cell_type": "markdown",
   "metadata": {},
   "source": [
    "5.Сколько пользователей приобрели какой-либо товар повторно (более 1 раза)? "
   ]
  },
  {
   "cell_type": "code",
   "execution_count": 17,
   "metadata": {},
   "outputs": [],
   "source": [
    "df1 = data.drop_duplicates(['name', 'product_id', 'date'])\n",
    "df1 = df1 \\\n",
    "    .groupby(['name', 'product_id'], as_index=False) \\\n",
    "    .agg({'date': 'nunique'}) \\\n",
    "    .rename(columns = {'date': 'rebuyes'})"
   ]
  },
  {
   "cell_type": "code",
   "execution_count": 18,
   "metadata": {
    "scrolled": true
   },
   "outputs": [
    {
     "data": {
      "text/plain": [
       "2"
      ]
     },
     "execution_count": 18,
     "metadata": {},
     "output_type": "execute_result"
    }
   ],
   "source": [
    "df1.rebuyes.nunique()"
   ]
  }
 ],
 "metadata": {
  "kernelspec": {
   "display_name": "Python 3",
   "language": "python",
   "name": "python3"
  },
  "language_info": {
   "codemirror_mode": {
    "name": "ipython",
    "version": 3
   },
   "file_extension": ".py",
   "mimetype": "text/x-python",
   "name": "python",
   "nbconvert_exporter": "python",
   "pygments_lexer": "ipython3",
   "version": "3.7.3"
  }
 },
 "nbformat": 4,
 "nbformat_minor": 4
}
